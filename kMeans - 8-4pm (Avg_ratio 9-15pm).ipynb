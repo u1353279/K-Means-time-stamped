{
 "cells": [
  {
   "cell_type": "markdown",
   "metadata": {},
   "source": [
    "# Creating a K-means clusterig model to find the fault classes in a PV installation"
   ]
  },
  {
   "cell_type": "markdown",
   "metadata": {},
   "source": [
    "Importing Modules"
   ]
  },
  {
   "cell_type": "code",
   "execution_count": 2,
   "metadata": {},
   "outputs": [],
   "source": [
    "from sklearn.cluster import KMeans\n",
    "from sklearn.preprocessing import MinMaxScaler\n",
    "from matplotlib import pyplot as plt\n",
    "%matplotlib inline\n",
    "import pandas as pd"
   ]
  },
  {
   "cell_type": "code",
   "execution_count": 47,
   "metadata": {},
   "outputs": [],
   "source": [
    "df_new=pd.read_excel('time.xlsx')"
   ]
  },
  {
   "cell_type": "markdown",
   "metadata": {},
   "source": [
    "to add the new columns to the dataframe, we need to convert the lists to a pandas series so that the empty rows will be \n",
    "filled as 'NAN'"
   ]
  },
  {
   "cell_type": "markdown",
   "metadata": {},
   "source": [
    "Drop the original last column"
   ]
  },
  {
   "cell_type": "code",
   "execution_count": 48,
   "metadata": {},
   "outputs": [],
   "source": [
    "df_new=df_new.iloc[:,:-1]"
   ]
  },
  {
   "cell_type": "code",
   "execution_count": 49,
   "metadata": {},
   "outputs": [],
   "source": [
    "df_new=df_new.drop(columns=['TIME'])"
   ]
  },
  {
   "cell_type": "code",
   "execution_count": 50,
   "metadata": {},
   "outputs": [
    {
     "data": {
      "text/html": [
       "<div>\n",
       "<style scoped>\n",
       "    .dataframe tbody tr th:only-of-type {\n",
       "        vertical-align: middle;\n",
       "    }\n",
       "\n",
       "    .dataframe tbody tr th {\n",
       "        vertical-align: top;\n",
       "    }\n",
       "\n",
       "    .dataframe thead th {\n",
       "        text-align: right;\n",
       "    }\n",
       "</style>\n",
       "<table border=\"1\" class=\"dataframe\">\n",
       "  <thead>\n",
       "    <tr style=\"text-align: right;\">\n",
       "      <th></th>\n",
       "      <th>T</th>\n",
       "      <th>G</th>\n",
       "      <th>P</th>\n",
       "    </tr>\n",
       "  </thead>\n",
       "  <tbody>\n",
       "    <tr>\n",
       "      <td>0</td>\n",
       "      <td>3</td>\n",
       "      <td>0.0</td>\n",
       "      <td>0.0</td>\n",
       "    </tr>\n",
       "    <tr>\n",
       "      <td>1</td>\n",
       "      <td>3</td>\n",
       "      <td>0.0</td>\n",
       "      <td>0.0</td>\n",
       "    </tr>\n",
       "    <tr>\n",
       "      <td>2</td>\n",
       "      <td>3</td>\n",
       "      <td>0.0</td>\n",
       "      <td>0.0</td>\n",
       "    </tr>\n",
       "    <tr>\n",
       "      <td>3</td>\n",
       "      <td>3</td>\n",
       "      <td>0.0</td>\n",
       "      <td>0.0</td>\n",
       "    </tr>\n",
       "    <tr>\n",
       "      <td>4</td>\n",
       "      <td>3</td>\n",
       "      <td>0.0</td>\n",
       "      <td>0.0</td>\n",
       "    </tr>\n",
       "    <tr>\n",
       "      <td>...</td>\n",
       "      <td>...</td>\n",
       "      <td>...</td>\n",
       "      <td>...</td>\n",
       "    </tr>\n",
       "    <tr>\n",
       "      <td>97195</td>\n",
       "      <td>21</td>\n",
       "      <td>0.0</td>\n",
       "      <td>0.0</td>\n",
       "    </tr>\n",
       "    <tr>\n",
       "      <td>97196</td>\n",
       "      <td>21</td>\n",
       "      <td>0.0</td>\n",
       "      <td>0.0</td>\n",
       "    </tr>\n",
       "    <tr>\n",
       "      <td>97197</td>\n",
       "      <td>21</td>\n",
       "      <td>0.0</td>\n",
       "      <td>0.0</td>\n",
       "    </tr>\n",
       "    <tr>\n",
       "      <td>97198</td>\n",
       "      <td>21</td>\n",
       "      <td>0.0</td>\n",
       "      <td>0.0</td>\n",
       "    </tr>\n",
       "    <tr>\n",
       "      <td>97199</td>\n",
       "      <td>21</td>\n",
       "      <td>0.0</td>\n",
       "      <td>0.0</td>\n",
       "    </tr>\n",
       "  </tbody>\n",
       "</table>\n",
       "<p>97200 rows × 3 columns</p>\n",
       "</div>"
      ],
      "text/plain": [
       "        T    G    P\n",
       "0       3  0.0  0.0\n",
       "1       3  0.0  0.0\n",
       "2       3  0.0  0.0\n",
       "3       3  0.0  0.0\n",
       "4       3  0.0  0.0\n",
       "...    ..  ...  ...\n",
       "97195  21  0.0  0.0\n",
       "97196  21  0.0  0.0\n",
       "97197  21  0.0  0.0\n",
       "97198  21  0.0  0.0\n",
       "97199  21  0.0  0.0\n",
       "\n",
       "[97200 rows x 3 columns]"
      ]
     },
     "execution_count": 50,
     "metadata": {},
     "output_type": "execute_result"
    }
   ],
   "source": [
    "df_new"
   ]
  },
  {
   "cell_type": "code",
   "execution_count": 51,
   "metadata": {},
   "outputs": [],
   "source": [
    "m = df_new['T'].between(8,16,inclusive=False)\n",
    "g = m.ne(m.shift()).cumsum()\n",
    "df_new['G_new'] = df_new.groupby(g)['G'].transform('mean')\n",
    "#export=df.to_excel(r'C:\\Users\\zahid.hussain\\exportdata.xlsx', index=None, header=True)"
   ]
  },
  {
   "cell_type": "code",
   "execution_count": 52,
   "metadata": {},
   "outputs": [
    {
     "data": {
      "text/html": [
       "<div>\n",
       "<style scoped>\n",
       "    .dataframe tbody tr th:only-of-type {\n",
       "        vertical-align: middle;\n",
       "    }\n",
       "\n",
       "    .dataframe tbody tr th {\n",
       "        vertical-align: top;\n",
       "    }\n",
       "\n",
       "    .dataframe thead th {\n",
       "        text-align: right;\n",
       "    }\n",
       "</style>\n",
       "<table border=\"1\" class=\"dataframe\">\n",
       "  <thead>\n",
       "    <tr style=\"text-align: right;\">\n",
       "      <th></th>\n",
       "      <th>T</th>\n",
       "      <th>G</th>\n",
       "      <th>P</th>\n",
       "      <th>G_new</th>\n",
       "      <th>P_new</th>\n",
       "    </tr>\n",
       "  </thead>\n",
       "  <tbody>\n",
       "    <tr>\n",
       "      <td>0</td>\n",
       "      <td>3</td>\n",
       "      <td>0.0</td>\n",
       "      <td>0.0</td>\n",
       "      <td>56.205594</td>\n",
       "      <td>123.328396</td>\n",
       "    </tr>\n",
       "    <tr>\n",
       "      <td>1</td>\n",
       "      <td>3</td>\n",
       "      <td>0.0</td>\n",
       "      <td>0.0</td>\n",
       "      <td>56.205594</td>\n",
       "      <td>123.328396</td>\n",
       "    </tr>\n",
       "    <tr>\n",
       "      <td>2</td>\n",
       "      <td>3</td>\n",
       "      <td>0.0</td>\n",
       "      <td>0.0</td>\n",
       "      <td>56.205594</td>\n",
       "      <td>123.328396</td>\n",
       "    </tr>\n",
       "    <tr>\n",
       "      <td>3</td>\n",
       "      <td>3</td>\n",
       "      <td>0.0</td>\n",
       "      <td>0.0</td>\n",
       "      <td>56.205594</td>\n",
       "      <td>123.328396</td>\n",
       "    </tr>\n",
       "    <tr>\n",
       "      <td>4</td>\n",
       "      <td>3</td>\n",
       "      <td>0.0</td>\n",
       "      <td>0.0</td>\n",
       "      <td>56.205594</td>\n",
       "      <td>123.328396</td>\n",
       "    </tr>\n",
       "    <tr>\n",
       "      <td>...</td>\n",
       "      <td>...</td>\n",
       "      <td>...</td>\n",
       "      <td>...</td>\n",
       "      <td>...</td>\n",
       "      <td>...</td>\n",
       "    </tr>\n",
       "    <tr>\n",
       "      <td>97195</td>\n",
       "      <td>21</td>\n",
       "      <td>0.0</td>\n",
       "      <td>0.0</td>\n",
       "      <td>45.375258</td>\n",
       "      <td>9.997262</td>\n",
       "    </tr>\n",
       "    <tr>\n",
       "      <td>97196</td>\n",
       "      <td>21</td>\n",
       "      <td>0.0</td>\n",
       "      <td>0.0</td>\n",
       "      <td>45.375258</td>\n",
       "      <td>9.997262</td>\n",
       "    </tr>\n",
       "    <tr>\n",
       "      <td>97197</td>\n",
       "      <td>21</td>\n",
       "      <td>0.0</td>\n",
       "      <td>0.0</td>\n",
       "      <td>45.375258</td>\n",
       "      <td>9.997262</td>\n",
       "    </tr>\n",
       "    <tr>\n",
       "      <td>97198</td>\n",
       "      <td>21</td>\n",
       "      <td>0.0</td>\n",
       "      <td>0.0</td>\n",
       "      <td>45.375258</td>\n",
       "      <td>9.997262</td>\n",
       "    </tr>\n",
       "    <tr>\n",
       "      <td>97199</td>\n",
       "      <td>21</td>\n",
       "      <td>0.0</td>\n",
       "      <td>0.0</td>\n",
       "      <td>45.375258</td>\n",
       "      <td>9.997262</td>\n",
       "    </tr>\n",
       "  </tbody>\n",
       "</table>\n",
       "<p>97200 rows × 5 columns</p>\n",
       "</div>"
      ],
      "text/plain": [
       "        T    G    P      G_new       P_new\n",
       "0       3  0.0  0.0  56.205594  123.328396\n",
       "1       3  0.0  0.0  56.205594  123.328396\n",
       "2       3  0.0  0.0  56.205594  123.328396\n",
       "3       3  0.0  0.0  56.205594  123.328396\n",
       "4       3  0.0  0.0  56.205594  123.328396\n",
       "...    ..  ...  ...        ...         ...\n",
       "97195  21  0.0  0.0  45.375258    9.997262\n",
       "97196  21  0.0  0.0  45.375258    9.997262\n",
       "97197  21  0.0  0.0  45.375258    9.997262\n",
       "97198  21  0.0  0.0  45.375258    9.997262\n",
       "97199  21  0.0  0.0  45.375258    9.997262\n",
       "\n",
       "[97200 rows x 5 columns]"
      ]
     },
     "execution_count": 52,
     "metadata": {},
     "output_type": "execute_result"
    }
   ],
   "source": [
    "x = df_new['T'].between(8,16,inclusive=False)\n",
    "p = x.ne(x.shift()).cumsum()\n",
    "df_new['P_new'] = df_new.groupby(p)['P'].transform('mean')\n",
    "#export=df.to_excel(r'C:\\Users\\zahid.hussain\\exportdata.xlsx', index=None, header=True)\n",
    "df_new"
   ]
  },
  {
   "cell_type": "code",
   "execution_count": 53,
   "metadata": {},
   "outputs": [],
   "source": [
    "df_new=df_new.drop(columns=['T','G','P'])"
   ]
  },
  {
   "cell_type": "code",
   "execution_count": 54,
   "metadata": {},
   "outputs": [
    {
     "data": {
      "text/html": [
       "<div>\n",
       "<style scoped>\n",
       "    .dataframe tbody tr th:only-of-type {\n",
       "        vertical-align: middle;\n",
       "    }\n",
       "\n",
       "    .dataframe tbody tr th {\n",
       "        vertical-align: top;\n",
       "    }\n",
       "\n",
       "    .dataframe thead th {\n",
       "        text-align: right;\n",
       "    }\n",
       "</style>\n",
       "<table border=\"1\" class=\"dataframe\">\n",
       "  <thead>\n",
       "    <tr style=\"text-align: right;\">\n",
       "      <th></th>\n",
       "      <th>G_new</th>\n",
       "      <th>P_new</th>\n",
       "    </tr>\n",
       "  </thead>\n",
       "  <tbody>\n",
       "    <tr>\n",
       "      <td>0</td>\n",
       "      <td>56.205594</td>\n",
       "      <td>123.328396</td>\n",
       "    </tr>\n",
       "    <tr>\n",
       "      <td>1</td>\n",
       "      <td>56.205594</td>\n",
       "      <td>123.328396</td>\n",
       "    </tr>\n",
       "    <tr>\n",
       "      <td>2</td>\n",
       "      <td>56.205594</td>\n",
       "      <td>123.328396</td>\n",
       "    </tr>\n",
       "    <tr>\n",
       "      <td>3</td>\n",
       "      <td>56.205594</td>\n",
       "      <td>123.328396</td>\n",
       "    </tr>\n",
       "    <tr>\n",
       "      <td>4</td>\n",
       "      <td>56.205594</td>\n",
       "      <td>123.328396</td>\n",
       "    </tr>\n",
       "    <tr>\n",
       "      <td>...</td>\n",
       "      <td>...</td>\n",
       "      <td>...</td>\n",
       "    </tr>\n",
       "    <tr>\n",
       "      <td>97195</td>\n",
       "      <td>45.375258</td>\n",
       "      <td>9.997262</td>\n",
       "    </tr>\n",
       "    <tr>\n",
       "      <td>97196</td>\n",
       "      <td>45.375258</td>\n",
       "      <td>9.997262</td>\n",
       "    </tr>\n",
       "    <tr>\n",
       "      <td>97197</td>\n",
       "      <td>45.375258</td>\n",
       "      <td>9.997262</td>\n",
       "    </tr>\n",
       "    <tr>\n",
       "      <td>97198</td>\n",
       "      <td>45.375258</td>\n",
       "      <td>9.997262</td>\n",
       "    </tr>\n",
       "    <tr>\n",
       "      <td>97199</td>\n",
       "      <td>45.375258</td>\n",
       "      <td>9.997262</td>\n",
       "    </tr>\n",
       "  </tbody>\n",
       "</table>\n",
       "<p>97200 rows × 2 columns</p>\n",
       "</div>"
      ],
      "text/plain": [
       "           G_new       P_new\n",
       "0      56.205594  123.328396\n",
       "1      56.205594  123.328396\n",
       "2      56.205594  123.328396\n",
       "3      56.205594  123.328396\n",
       "4      56.205594  123.328396\n",
       "...          ...         ...\n",
       "97195  45.375258    9.997262\n",
       "97196  45.375258    9.997262\n",
       "97197  45.375258    9.997262\n",
       "97198  45.375258    9.997262\n",
       "97199  45.375258    9.997262\n",
       "\n",
       "[97200 rows x 2 columns]"
      ]
     },
     "execution_count": 54,
     "metadata": {},
     "output_type": "execute_result"
    }
   ],
   "source": [
    "df_new"
   ]
  },
  {
   "cell_type": "markdown",
   "metadata": {},
   "source": [
    "exporting to excel for verification"
   ]
  },
  {
   "cell_type": "code",
   "execution_count": 24,
   "metadata": {},
   "outputs": [],
   "source": [
    "export=df_new.to_excel(r'C:\\Users\\zahid.hussain\\g_p_avg2.xlsx', index=None, header=True)"
   ]
  },
  {
   "cell_type": "markdown",
   "metadata": {},
   "source": [
    "to get the unique average values between 8-16 (9-15 actual readingds)"
   ]
  },
  {
   "cell_type": "code",
   "execution_count": 55,
   "metadata": {},
   "outputs": [],
   "source": [
    "z=df_new.P_new.unique()"
   ]
  },
  {
   "cell_type": "code",
   "execution_count": 56,
   "metadata": {},
   "outputs": [],
   "source": [
    "p=z[1::2]"
   ]
  },
  {
   "cell_type": "code",
   "execution_count": 57,
   "metadata": {},
   "outputs": [],
   "source": [
    "y=df_new.G_new.unique()"
   ]
  },
  {
   "cell_type": "code",
   "execution_count": 58,
   "metadata": {},
   "outputs": [],
   "source": [
    "g=y[1::2]"
   ]
  },
  {
   "cell_type": "markdown",
   "metadata": {},
   "source": [
    "create the new dataframe"
   ]
  },
  {
   "cell_type": "code",
   "execution_count": 59,
   "metadata": {},
   "outputs": [
    {
     "data": {
      "text/html": [
       "<div>\n",
       "<style scoped>\n",
       "    .dataframe tbody tr th:only-of-type {\n",
       "        vertical-align: middle;\n",
       "    }\n",
       "\n",
       "    .dataframe tbody tr th {\n",
       "        vertical-align: top;\n",
       "    }\n",
       "\n",
       "    .dataframe thead th {\n",
       "        text-align: right;\n",
       "    }\n",
       "</style>\n",
       "<table border=\"1\" class=\"dataframe\">\n",
       "  <thead>\n",
       "    <tr style=\"text-align: right;\">\n",
       "      <th></th>\n",
       "      <th>g_avg</th>\n",
       "      <th>p_avg</th>\n",
       "    </tr>\n",
       "  </thead>\n",
       "  <tbody>\n",
       "    <tr>\n",
       "      <td>0</td>\n",
       "      <td>140.108917</td>\n",
       "      <td>308.404302</td>\n",
       "    </tr>\n",
       "    <tr>\n",
       "      <td>1</td>\n",
       "      <td>236.312436</td>\n",
       "      <td>519.628464</td>\n",
       "    </tr>\n",
       "    <tr>\n",
       "      <td>2</td>\n",
       "      <td>184.061955</td>\n",
       "      <td>403.916031</td>\n",
       "    </tr>\n",
       "    <tr>\n",
       "      <td>3</td>\n",
       "      <td>126.781479</td>\n",
       "      <td>279.268931</td>\n",
       "    </tr>\n",
       "    <tr>\n",
       "      <td>4</td>\n",
       "      <td>206.944010</td>\n",
       "      <td>455.222386</td>\n",
       "    </tr>\n",
       "    <tr>\n",
       "      <td>...</td>\n",
       "      <td>...</td>\n",
       "      <td>...</td>\n",
       "    </tr>\n",
       "    <tr>\n",
       "      <td>65</td>\n",
       "      <td>136.385092</td>\n",
       "      <td>30.025310</td>\n",
       "    </tr>\n",
       "    <tr>\n",
       "      <td>66</td>\n",
       "      <td>286.297398</td>\n",
       "      <td>62.956717</td>\n",
       "    </tr>\n",
       "    <tr>\n",
       "      <td>67</td>\n",
       "      <td>301.259807</td>\n",
       "      <td>66.244266</td>\n",
       "    </tr>\n",
       "    <tr>\n",
       "      <td>68</td>\n",
       "      <td>136.058879</td>\n",
       "      <td>30.015204</td>\n",
       "    </tr>\n",
       "    <tr>\n",
       "      <td>69</td>\n",
       "      <td>318.306898</td>\n",
       "      <td>70.139322</td>\n",
       "    </tr>\n",
       "  </tbody>\n",
       "</table>\n",
       "<p>70 rows × 2 columns</p>\n",
       "</div>"
      ],
      "text/plain": [
       "         g_avg       p_avg\n",
       "0   140.108917  308.404302\n",
       "1   236.312436  519.628464\n",
       "2   184.061955  403.916031\n",
       "3   126.781479  279.268931\n",
       "4   206.944010  455.222386\n",
       "..         ...         ...\n",
       "65  136.385092   30.025310\n",
       "66  286.297398   62.956717\n",
       "67  301.259807   66.244266\n",
       "68  136.058879   30.015204\n",
       "69  318.306898   70.139322\n",
       "\n",
       "[70 rows x 2 columns]"
      ]
     },
     "execution_count": 59,
     "metadata": {},
     "output_type": "execute_result"
    }
   ],
   "source": [
    "df_new = pd.DataFrame({'g_avg':g, 'p_avg':p})\n",
    "df_new"
   ]
  },
  {
   "cell_type": "code",
   "execution_count": 60,
   "metadata": {},
   "outputs": [],
   "source": [
    "df_new['avg_ratio'] = df_new['g_avg'] / df_new['p_avg']"
   ]
  },
  {
   "cell_type": "code",
   "execution_count": 61,
   "metadata": {},
   "outputs": [
    {
     "data": {
      "text/html": [
       "<div>\n",
       "<style scoped>\n",
       "    .dataframe tbody tr th:only-of-type {\n",
       "        vertical-align: middle;\n",
       "    }\n",
       "\n",
       "    .dataframe tbody tr th {\n",
       "        vertical-align: top;\n",
       "    }\n",
       "\n",
       "    .dataframe thead th {\n",
       "        text-align: right;\n",
       "    }\n",
       "</style>\n",
       "<table border=\"1\" class=\"dataframe\">\n",
       "  <thead>\n",
       "    <tr style=\"text-align: right;\">\n",
       "      <th></th>\n",
       "      <th>g_avg</th>\n",
       "      <th>p_avg</th>\n",
       "      <th>avg_ratio</th>\n",
       "    </tr>\n",
       "  </thead>\n",
       "  <tbody>\n",
       "    <tr>\n",
       "      <td>0</td>\n",
       "      <td>140.108917</td>\n",
       "      <td>308.404302</td>\n",
       "      <td>0.454303</td>\n",
       "    </tr>\n",
       "    <tr>\n",
       "      <td>1</td>\n",
       "      <td>236.312436</td>\n",
       "      <td>519.628464</td>\n",
       "      <td>0.454772</td>\n",
       "    </tr>\n",
       "    <tr>\n",
       "      <td>2</td>\n",
       "      <td>184.061955</td>\n",
       "      <td>403.916031</td>\n",
       "      <td>0.455694</td>\n",
       "    </tr>\n",
       "    <tr>\n",
       "      <td>3</td>\n",
       "      <td>126.781479</td>\n",
       "      <td>279.268931</td>\n",
       "      <td>0.453976</td>\n",
       "    </tr>\n",
       "    <tr>\n",
       "      <td>4</td>\n",
       "      <td>206.944010</td>\n",
       "      <td>455.222386</td>\n",
       "      <td>0.454600</td>\n",
       "    </tr>\n",
       "    <tr>\n",
       "      <td>...</td>\n",
       "      <td>...</td>\n",
       "      <td>...</td>\n",
       "      <td>...</td>\n",
       "    </tr>\n",
       "    <tr>\n",
       "      <td>65</td>\n",
       "      <td>136.385092</td>\n",
       "      <td>30.025310</td>\n",
       "      <td>4.542338</td>\n",
       "    </tr>\n",
       "    <tr>\n",
       "      <td>66</td>\n",
       "      <td>286.297398</td>\n",
       "      <td>62.956717</td>\n",
       "      <td>4.547527</td>\n",
       "    </tr>\n",
       "    <tr>\n",
       "      <td>67</td>\n",
       "      <td>301.259807</td>\n",
       "      <td>66.244266</td>\n",
       "      <td>4.547711</td>\n",
       "    </tr>\n",
       "    <tr>\n",
       "      <td>68</td>\n",
       "      <td>136.058879</td>\n",
       "      <td>30.015204</td>\n",
       "      <td>4.532999</td>\n",
       "    </tr>\n",
       "    <tr>\n",
       "      <td>69</td>\n",
       "      <td>318.306898</td>\n",
       "      <td>70.139322</td>\n",
       "      <td>4.538209</td>\n",
       "    </tr>\n",
       "  </tbody>\n",
       "</table>\n",
       "<p>70 rows × 3 columns</p>\n",
       "</div>"
      ],
      "text/plain": [
       "         g_avg       p_avg  avg_ratio\n",
       "0   140.108917  308.404302   0.454303\n",
       "1   236.312436  519.628464   0.454772\n",
       "2   184.061955  403.916031   0.455694\n",
       "3   126.781479  279.268931   0.453976\n",
       "4   206.944010  455.222386   0.454600\n",
       "..         ...         ...        ...\n",
       "65  136.385092   30.025310   4.542338\n",
       "66  286.297398   62.956717   4.547527\n",
       "67  301.259807   66.244266   4.547711\n",
       "68  136.058879   30.015204   4.532999\n",
       "69  318.306898   70.139322   4.538209\n",
       "\n",
       "[70 rows x 3 columns]"
      ]
     },
     "execution_count": 61,
     "metadata": {},
     "output_type": "execute_result"
    }
   ],
   "source": [
    "df_new"
   ]
  },
  {
   "cell_type": "code",
   "execution_count": 35,
   "metadata": {},
   "outputs": [],
   "source": [
    "df_new=df_new.drop(columns=['g_avg','p_avg'])"
   ]
  },
  {
   "cell_type": "code",
   "execution_count": 36,
   "metadata": {},
   "outputs": [
    {
     "data": {
      "text/html": [
       "<div>\n",
       "<style scoped>\n",
       "    .dataframe tbody tr th:only-of-type {\n",
       "        vertical-align: middle;\n",
       "    }\n",
       "\n",
       "    .dataframe tbody tr th {\n",
       "        vertical-align: top;\n",
       "    }\n",
       "\n",
       "    .dataframe thead th {\n",
       "        text-align: right;\n",
       "    }\n",
       "</style>\n",
       "<table border=\"1\" class=\"dataframe\">\n",
       "  <thead>\n",
       "    <tr style=\"text-align: right;\">\n",
       "      <th></th>\n",
       "      <th>avg_ratio</th>\n",
       "    </tr>\n",
       "  </thead>\n",
       "  <tbody>\n",
       "    <tr>\n",
       "      <td>0</td>\n",
       "      <td>0.454303</td>\n",
       "    </tr>\n",
       "    <tr>\n",
       "      <td>1</td>\n",
       "      <td>0.454772</td>\n",
       "    </tr>\n",
       "    <tr>\n",
       "      <td>2</td>\n",
       "      <td>0.455694</td>\n",
       "    </tr>\n",
       "    <tr>\n",
       "      <td>3</td>\n",
       "      <td>0.453976</td>\n",
       "    </tr>\n",
       "    <tr>\n",
       "      <td>4</td>\n",
       "      <td>0.454600</td>\n",
       "    </tr>\n",
       "    <tr>\n",
       "      <td>...</td>\n",
       "      <td>...</td>\n",
       "    </tr>\n",
       "    <tr>\n",
       "      <td>65</td>\n",
       "      <td>4.542338</td>\n",
       "    </tr>\n",
       "    <tr>\n",
       "      <td>66</td>\n",
       "      <td>4.547527</td>\n",
       "    </tr>\n",
       "    <tr>\n",
       "      <td>67</td>\n",
       "      <td>4.547711</td>\n",
       "    </tr>\n",
       "    <tr>\n",
       "      <td>68</td>\n",
       "      <td>4.532999</td>\n",
       "    </tr>\n",
       "    <tr>\n",
       "      <td>69</td>\n",
       "      <td>4.538209</td>\n",
       "    </tr>\n",
       "  </tbody>\n",
       "</table>\n",
       "<p>70 rows × 1 columns</p>\n",
       "</div>"
      ],
      "text/plain": [
       "    avg_ratio\n",
       "0    0.454303\n",
       "1    0.454772\n",
       "2    0.455694\n",
       "3    0.453976\n",
       "4    0.454600\n",
       "..        ...\n",
       "65   4.542338\n",
       "66   4.547527\n",
       "67   4.547711\n",
       "68   4.532999\n",
       "69   4.538209\n",
       "\n",
       "[70 rows x 1 columns]"
      ]
     },
     "execution_count": 36,
     "metadata": {},
     "output_type": "execute_result"
    }
   ],
   "source": [
    "df_new"
   ]
  },
  {
   "cell_type": "code",
   "execution_count": 167,
   "metadata": {},
   "outputs": [],
   "source": [
    "df_new = df_new.reset_index()"
   ]
  },
  {
   "cell_type": "markdown",
   "metadata": {},
   "source": [
    "Carrying out the K-means model testing"
   ]
  },
  {
   "cell_type": "code",
   "execution_count": 62,
   "metadata": {},
   "outputs": [
    {
     "data": {
      "text/plain": [
       "KMeans(algorithm='auto', copy_x=True, init='k-means++', max_iter=300,\n",
       "       n_clusters=10, n_init=10, n_jobs=None, precompute_distances='auto',\n",
       "       random_state=None, tol=0.0001, verbose=0)"
      ]
     },
     "execution_count": 62,
     "metadata": {},
     "output_type": "execute_result"
    }
   ],
   "source": [
    "km=KMeans(n_clusters=10)\n",
    "km"
   ]
  },
  {
   "cell_type": "code",
   "execution_count": 63,
   "metadata": {},
   "outputs": [
    {
     "data": {
      "text/plain": [
       "array([2, 8, 2, 2, 8, 4, 2, 4, 8, 8, 8, 2, 2, 2, 8, 8, 8, 0, 0, 2, 8, 2,\n",
       "       0, 0, 0, 0, 4, 8, 3, 3, 9, 9, 9, 3, 3, 9, 9, 6, 7, 3, 9, 6, 6, 6,\n",
       "       7, 7, 7, 7, 6, 6, 7, 6, 7, 6, 7, 6, 5, 5, 1, 1, 1, 1, 1, 1, 1, 5,\n",
       "       1, 1, 5, 1])"
      ]
     },
     "execution_count": 63,
     "metadata": {},
     "output_type": "execute_result"
    }
   ],
   "source": [
    "y_pred=km.fit_predict(df_new)\n",
    "y_pred"
   ]
  },
  {
   "cell_type": "code",
   "execution_count": 64,
   "metadata": {},
   "outputs": [
    {
     "data": {
      "text/html": [
       "<div>\n",
       "<style scoped>\n",
       "    .dataframe tbody tr th:only-of-type {\n",
       "        vertical-align: middle;\n",
       "    }\n",
       "\n",
       "    .dataframe tbody tr th {\n",
       "        vertical-align: top;\n",
       "    }\n",
       "\n",
       "    .dataframe thead th {\n",
       "        text-align: right;\n",
       "    }\n",
       "</style>\n",
       "<table border=\"1\" class=\"dataframe\">\n",
       "  <thead>\n",
       "    <tr style=\"text-align: right;\">\n",
       "      <th></th>\n",
       "      <th>g_avg</th>\n",
       "      <th>p_avg</th>\n",
       "      <th>avg_ratio</th>\n",
       "      <th>cluster</th>\n",
       "    </tr>\n",
       "  </thead>\n",
       "  <tbody>\n",
       "    <tr>\n",
       "      <td>0</td>\n",
       "      <td>140.108917</td>\n",
       "      <td>308.404302</td>\n",
       "      <td>0.454303</td>\n",
       "      <td>2</td>\n",
       "    </tr>\n",
       "    <tr>\n",
       "      <td>1</td>\n",
       "      <td>236.312436</td>\n",
       "      <td>519.628464</td>\n",
       "      <td>0.454772</td>\n",
       "      <td>8</td>\n",
       "    </tr>\n",
       "    <tr>\n",
       "      <td>2</td>\n",
       "      <td>184.061955</td>\n",
       "      <td>403.916031</td>\n",
       "      <td>0.455694</td>\n",
       "      <td>2</td>\n",
       "    </tr>\n",
       "    <tr>\n",
       "      <td>3</td>\n",
       "      <td>126.781479</td>\n",
       "      <td>279.268931</td>\n",
       "      <td>0.453976</td>\n",
       "      <td>2</td>\n",
       "    </tr>\n",
       "    <tr>\n",
       "      <td>4</td>\n",
       "      <td>206.944010</td>\n",
       "      <td>455.222386</td>\n",
       "      <td>0.454600</td>\n",
       "      <td>8</td>\n",
       "    </tr>\n",
       "  </tbody>\n",
       "</table>\n",
       "</div>"
      ],
      "text/plain": [
       "        g_avg       p_avg  avg_ratio  cluster\n",
       "0  140.108917  308.404302   0.454303        2\n",
       "1  236.312436  519.628464   0.454772        8\n",
       "2  184.061955  403.916031   0.455694        2\n",
       "3  126.781479  279.268931   0.453976        2\n",
       "4  206.944010  455.222386   0.454600        8"
      ]
     },
     "execution_count": 64,
     "metadata": {},
     "output_type": "execute_result"
    }
   ],
   "source": [
    "df_new['cluster']=y_pred\n",
    "df_new.head()"
   ]
  },
  {
   "cell_type": "code",
   "execution_count": 65,
   "metadata": {},
   "outputs": [
    {
     "data": {
      "text/plain": [
       "array([[4.04813236e+02, 6.50987133e+02, 6.21807534e-01],\n",
       "       [3.06509949e+02, 1.01077951e+02, 3.40719734e+00],\n",
       "       [1.80831197e+02, 3.58784373e+02, 5.05601813e-01],\n",
       "       [3.34918556e+02, 4.25122431e+02, 7.87920977e-01],\n",
       "       [4.30415179e+02, 8.06241273e+02, 5.36176629e-01],\n",
       "       [1.64087494e+02, 5.71844558e+01, 3.40667555e+00],\n",
       "       [2.03626672e+02, 1.66544776e+02, 1.25426557e+00],\n",
       "       [2.78896410e+02, 2.25542925e+02, 1.24925672e+00],\n",
       "       [2.66800352e+02, 4.99956060e+02, 5.34398228e-01],\n",
       "       [2.77897026e+02, 3.33978896e+02, 8.33353218e-01]])"
      ]
     },
     "execution_count": 65,
     "metadata": {},
     "output_type": "execute_result"
    }
   ],
   "source": [
    "km.cluster_centers_"
   ]
  },
  {
   "cell_type": "code",
   "execution_count": 67,
   "metadata": {},
   "outputs": [
    {
     "data": {
      "text/plain": [
       "Text(0, 0.5, 'P')"
      ]
     },
     "execution_count": 67,
     "metadata": {},
     "output_type": "execute_result"
    },
    {
     "data": {
      "image/png": "[encoded data removed]",
      "text/plain": [
       "<Figure size 432x288 with 1 Axes>"
      ]
     },
     "metadata": {
      "needs_background": "light"
     },
     "output_type": "display_data"
    }
   ],
   "source": [
    "df0=df_new[df_new.cluster==0]\n",
    "df1=df_new[df_new.cluster==1]\n",
    "df2=df_new[df_new.cluster==2]\n",
    "df3=df_new[df_new.cluster==3]\n",
    "df4=df_new[df_new.cluster==4]\n",
    "df5=df_new[df_new.cluster==5]\n",
    "df6=df_new[df_new.cluster==6]\n",
    "df7=df_new[df_new.cluster==7]\n",
    "df8=df_new[df_new.cluster==8]\n",
    "df9=df_new[df_new.cluster==9]\n",
    "\n",
    "plt.scatter(df0.g_avg,df0.p_avg,df0.avg_ratio, color='g')\n",
    "plt.scatter(df1.g_avg,df1.p_avg,df1.avg_ratio, color='black')\n",
    "plt.scatter(df2.g_avg,df2.p_avg,df2.avg_ratio, color='blue')\n",
    "plt.scatter(df3.g_avg,df3.p_avg,df3.avg_ratio, color='yellow')\n",
    "plt.scatter(df4.g_avg,df4.p_avg,df4.avg_ratio, color='red')\n",
    "plt.scatter(df5.g_avg,df5.p_avg,df5.avg_ratio, color='orange')\n",
    "plt.scatter(df6.g_avg,df6.p_avg,df6.avg_ratio, color='purple')\n",
    "plt.scatter(df7.g_avg,df7.p_avg,df7.avg_ratio,color='grey')\n",
    "plt.scatter(df8.g_avg,df8.p_avg,df8.avg_ratio,color='silver')\n",
    "plt.scatter(df9.g_avg,df9.p_avg,df9.avg_ratio, color='brown')\n",
    "\n",
    "#plt.scatter(km.cluster_centers_[:,0],km.cluster_centers_[:,1], color='r', marker='*')\n",
    "\n",
    "plt.xlabel('G')\n",
    "plt.ylabel('P')"
   ]
  },
  {
   "cell_type": "markdown",
   "metadata": {},
   "source": [
    "data nomalisation"
   ]
  },
  {
   "cell_type": "code",
   "execution_count": 68,
   "metadata": {},
   "outputs": [
    {
     "data": {
      "text/html": [
       "<div>\n",
       "<style scoped>\n",
       "    .dataframe tbody tr th:only-of-type {\n",
       "        vertical-align: middle;\n",
       "    }\n",
       "\n",
       "    .dataframe tbody tr th {\n",
       "        vertical-align: top;\n",
       "    }\n",
       "\n",
       "    .dataframe thead th {\n",
       "        text-align: right;\n",
       "    }\n",
       "</style>\n",
       "<table border=\"1\" class=\"dataframe\">\n",
       "  <thead>\n",
       "    <tr style=\"text-align: right;\">\n",
       "      <th></th>\n",
       "      <th>g_avg</th>\n",
       "      <th>p_avg</th>\n",
       "      <th>avg_ratio</th>\n",
       "      <th>cluster</th>\n",
       "    </tr>\n",
       "  </thead>\n",
       "  <tbody>\n",
       "    <tr>\n",
       "      <td>0</td>\n",
       "      <td>0.035368</td>\n",
       "      <td>0.347784</td>\n",
       "      <td>0.454303</td>\n",
       "      <td>2</td>\n",
       "    </tr>\n",
       "    <tr>\n",
       "      <td>1</td>\n",
       "      <td>0.290674</td>\n",
       "      <td>0.611660</td>\n",
       "      <td>0.454772</td>\n",
       "      <td>8</td>\n",
       "    </tr>\n",
       "    <tr>\n",
       "      <td>2</td>\n",
       "      <td>0.152011</td>\n",
       "      <td>0.467104</td>\n",
       "      <td>0.455694</td>\n",
       "      <td>2</td>\n",
       "    </tr>\n",
       "    <tr>\n",
       "      <td>3</td>\n",
       "      <td>0.000000</td>\n",
       "      <td>0.311386</td>\n",
       "      <td>0.453976</td>\n",
       "      <td>2</td>\n",
       "    </tr>\n",
       "    <tr>\n",
       "      <td>4</td>\n",
       "      <td>0.212736</td>\n",
       "      <td>0.531200</td>\n",
       "      <td>0.454600</td>\n",
       "      <td>8</td>\n",
       "    </tr>\n",
       "  </tbody>\n",
       "</table>\n",
       "</div>"
      ],
      "text/plain": [
       "      g_avg     p_avg  avg_ratio  cluster\n",
       "0  0.035368  0.347784   0.454303        2\n",
       "1  0.290674  0.611660   0.454772        8\n",
       "2  0.152011  0.467104   0.455694        2\n",
       "3  0.000000  0.311386   0.453976        2\n",
       "4  0.212736  0.531200   0.454600        8"
      ]
     },
     "execution_count": 68,
     "metadata": {},
     "output_type": "execute_result"
    }
   ],
   "source": [
    "scaler= MinMaxScaler()\n",
    "scaler.fit(df_new[['g_avg']])\n",
    "df_new[['g_avg']]=scaler.transform(df_new[['g_avg']])\n",
    "scaler.fit(df_new[['p_avg']])\n",
    "df_new[['p_avg']]=scaler.transform(df_new[['p_avg']])\n",
    "df_new.head()"
   ]
  },
  {
   "cell_type": "code",
   "execution_count": 69,
   "metadata": {},
   "outputs": [
    {
     "data": {
      "text/plain": [
       "array([8, 7, 8, 8, 7, 4, 8, 4, 7, 7, 7, 8, 8, 8, 7, 7, 7, 6, 6, 8, 7, 8,\n",
       "       6, 6, 6, 6, 4, 7, 4, 4, 3, 3, 3, 4, 4, 3, 3, 1, 9, 4, 3, 1, 1, 1,\n",
       "       9, 9, 9, 9, 1, 1, 9, 1, 9, 1, 9, 1, 1, 1, 2, 2, 2, 2, 2, 5, 5, 0,\n",
       "       5, 5, 0, 5])"
      ]
     },
     "execution_count": 69,
     "metadata": {},
     "output_type": "execute_result"
    }
   ],
   "source": [
    "y_pred=km.fit_predict(df_new)\n",
    "y_pred"
   ]
  },
  {
   "cell_type": "code",
   "execution_count": 70,
   "metadata": {},
   "outputs": [
    {
     "data": {
      "text/html": [
       "<div>\n",
       "<style scoped>\n",
       "    .dataframe tbody tr th:only-of-type {\n",
       "        vertical-align: middle;\n",
       "    }\n",
       "\n",
       "    .dataframe tbody tr th {\n",
       "        vertical-align: top;\n",
       "    }\n",
       "\n",
       "    .dataframe thead th {\n",
       "        text-align: right;\n",
       "    }\n",
       "</style>\n",
       "<table border=\"1\" class=\"dataframe\">\n",
       "  <thead>\n",
       "    <tr style=\"text-align: right;\">\n",
       "      <th></th>\n",
       "      <th>g_avg</th>\n",
       "      <th>p_avg</th>\n",
       "      <th>avg_ratio</th>\n",
       "      <th>cluster</th>\n",
       "    </tr>\n",
       "  </thead>\n",
       "  <tbody>\n",
       "    <tr>\n",
       "      <td>0</td>\n",
       "      <td>0.035368</td>\n",
       "      <td>0.347784</td>\n",
       "      <td>0.454303</td>\n",
       "      <td>8</td>\n",
       "    </tr>\n",
       "    <tr>\n",
       "      <td>1</td>\n",
       "      <td>0.290674</td>\n",
       "      <td>0.611660</td>\n",
       "      <td>0.454772</td>\n",
       "      <td>7</td>\n",
       "    </tr>\n",
       "    <tr>\n",
       "      <td>2</td>\n",
       "      <td>0.152011</td>\n",
       "      <td>0.467104</td>\n",
       "      <td>0.455694</td>\n",
       "      <td>8</td>\n",
       "    </tr>\n",
       "    <tr>\n",
       "      <td>3</td>\n",
       "      <td>0.000000</td>\n",
       "      <td>0.311386</td>\n",
       "      <td>0.453976</td>\n",
       "      <td>8</td>\n",
       "    </tr>\n",
       "    <tr>\n",
       "      <td>4</td>\n",
       "      <td>0.212736</td>\n",
       "      <td>0.531200</td>\n",
       "      <td>0.454600</td>\n",
       "      <td>7</td>\n",
       "    </tr>\n",
       "  </tbody>\n",
       "</table>\n",
       "</div>"
      ],
      "text/plain": [
       "      g_avg     p_avg  avg_ratio  cluster\n",
       "0  0.035368  0.347784   0.454303        8\n",
       "1  0.290674  0.611660   0.454772        7\n",
       "2  0.152011  0.467104   0.455694        8\n",
       "3  0.000000  0.311386   0.453976        8\n",
       "4  0.212736  0.531200   0.454600        7"
      ]
     },
     "execution_count": 70,
     "metadata": {},
     "output_type": "execute_result"
    }
   ],
   "source": [
    "df_new['cluster']=y_pred\n",
    "df_new.head()"
   ]
  },
  {
   "cell_type": "code",
   "execution_count": 72,
   "metadata": {},
   "outputs": [
    {
     "data": {
      "text/plain": [
       "Text(0, 0.5, 'P')"
      ]
     },
     "execution_count": 72,
     "metadata": {},
     "output_type": "execute_result"
    },
    {
     "data": {
      "image/png": "[encoded data removed]",
      "text/plain": [
       "<Figure size 432x288 with 1 Axes>"
      ]
     },
     "metadata": {
      "needs_background": "light"
     },
     "output_type": "display_data"
    }
   ],
   "source": [
    "df0=df_new[df_new.cluster==0]\n",
    "df1=df_new[df_new.cluster==1]\n",
    "df2=df_new[df_new.cluster==2]\n",
    "df3=df_new[df_new.cluster==3]\n",
    "df4=df_new[df_new.cluster==4]\n",
    "df5=df_new[df_new.cluster==5]\n",
    "df6=df_new[df_new.cluster==6]\n",
    "df7=df_new[df_new.cluster==7]\n",
    "df8=df_new[df_new.cluster==8]\n",
    "df9=df_new[df_new.cluster==9]\n",
    "\n",
    "plt.scatter(df0.g_avg,df0.p_avg,df0.avg_ratio, color='g')\n",
    "plt.scatter(df1.g_avg,df1.p_avg,df1.avg_ratio, color='black')\n",
    "plt.scatter(df2.g_avg,df2.p_avg,df2.avg_ratio, color='blue')\n",
    "plt.scatter(df3.g_avg,df3.p_avg,df3.avg_ratio, color='yellow')\n",
    "plt.scatter(df4.g_avg,df4.p_avg,df4.avg_ratio, color='red')\n",
    "plt.scatter(df5.g_avg,df5.p_avg,df5.avg_ratio, color='orange')\n",
    "plt.scatter(df6.g_avg,df6.p_avg,df6.avg_ratio, color='purple')\n",
    "plt.scatter(df7.g_avg,df7.p_avg,df7.avg_ratio,color='grey')\n",
    "plt.scatter(df8.g_avg,df8.p_avg,df8.avg_ratio,color='silver')\n",
    "plt.scatter(df9.g_avg,df9.p_avg,df9.avg_ratio, color='brown')\n",
    "\n",
    "plt.scatter(km.cluster_centers_[:,0],km.cluster_centers_[:,1], color='r', marker='*')\n",
    "\n",
    "plt.xlabel('G')\n",
    "plt.ylabel('P')"
   ]
  },
  {
   "cell_type": "markdown",
   "metadata": {},
   "source": [
    "Implementing a the elbow technique to find the optimal K value"
   ]
  },
  {
   "cell_type": "code",
   "execution_count": 73,
   "metadata": {},
   "outputs": [
    {
     "data": {
      "text/plain": [
       "[107.49042847476564,\n",
       " 26.382940350956602,\n",
       " 9.85291581565225,\n",
       " 5.927153522559449,\n",
       " 3.736455628957163,\n",
       " 2.66014603798794,\n",
       " 1.9367601570955606,\n",
       " 1.5182906721580447,\n",
       " 1.2191190668648535,\n",
       " 1.0743263228011521]"
      ]
     },
     "execution_count": 73,
     "metadata": {},
     "output_type": "execute_result"
    }
   ],
   "source": [
    "k_range=range(1,11)\n",
    "sse=[]\n",
    "for k in k_range:\n",
    "    km=KMeans(n_clusters=k)\n",
    "    km.fit(df_new[['g_avg','p_avg','avg_ratio']])\n",
    "    sse.append(km.inertia_)\n",
    "sse"
   ]
  },
  {
   "cell_type": "code",
   "execution_count": 74,
   "metadata": {},
   "outputs": [
    {
     "data": {
      "text/plain": [
       "[<matplotlib.lines.Line2D at 0x1c7abca1688>]"
      ]
     },
     "execution_count": 74,
     "metadata": {},
     "output_type": "execute_result"
    },
    {
     "data": {
      "image/png": "[encoded data removed]",
      "text/plain": [
       "<Figure size 432x288 with 1 Axes>"
      ]
     },
     "metadata": {
      "needs_background": "light"
     },
     "output_type": "display_data"
    }
   ],
   "source": [
    "plt.plot(k_range,sse)"
   ]
  },
  {
   "cell_type": "code",
   "execution_count": 75,
   "metadata": {},
   "outputs": [],
   "source": [
    "km=KMeans(n_clusters=2)\n",
    "y_pred=km.fit_predict(df_new[['g_avg','p_avg','avg_ratio']])"
   ]
  },
  {
   "cell_type": "code",
   "execution_count": 76,
   "metadata": {},
   "outputs": [],
   "source": [
    "df_new['cluster']=y_pred"
   ]
  },
  {
   "cell_type": "code",
   "execution_count": 77,
   "metadata": {},
   "outputs": [
    {
     "data": {
      "text/plain": [
       "Text(0, 0.5, 'P')"
      ]
     },
     "execution_count": 77,
     "metadata": {},
     "output_type": "execute_result"
    },
    {
     "data": {
      "image/png": "[encoded data removed]",
      "text/plain": [
       "<Figure size 432x288 with 1 Axes>"
      ]
     },
     "metadata": {
      "needs_background": "light"
     },
     "output_type": "display_data"
    }
   ],
   "source": [
    "df0=df_new[df_new.cluster==0]\n",
    "df1=df_new[df_new.cluster==1]\n",
    "df2=df_new[df_new.cluster==2]\n",
    "\n",
    "\n",
    "plt.scatter(df0.g_avg,df0.p_avg,df0.avg_ratio, color='g')\n",
    "plt.scatter(df1.g_avg,df1.p_avg,df1.avg_ratio,color='black')\n",
    "plt.scatter(df2.g_avg,df2.p_avg,df2.avg_ratio,color='y')\n",
    "\n",
    "plt.scatter(km.cluster_centers_[:,0],km.cluster_centers_[:,1], color='r', marker='*')\n",
    "\n",
    "plt.xlabel('G')\n",
    "plt.ylabel('P')"
   ]
  },
  {
   "cell_type": "code",
   "execution_count": 78,
   "metadata": {},
   "outputs": [
    {
     "data": {
      "text/plain": [
       "count    70.000000\n",
       "mean      1.330780\n",
       "std       1.203213\n",
       "min       0.453671\n",
       "25%       0.568083\n",
       "50%       0.833145\n",
       "75%       1.514723\n",
       "max       4.547711\n",
       "Name: avg_ratio, dtype: float64"
      ]
     },
     "execution_count": 78,
     "metadata": {},
     "output_type": "execute_result"
    }
   ],
   "source": [
    "df_new['avg_ratio'].describe()"
   ]
  }
 ],
 "metadata": {
  "kernelspec": {
   "display_name": "Python 3",
   "language": "python",
   "name": "python3"
  },
  "language_info": {
   "codemirror_mode": {
    "name": "ipython",
    "version": 3
   },
   "file_extension": ".py",
   "mimetype": "text/x-python",
   "name": "python",
   "nbconvert_exporter": "python",
   "pygments_lexer": "ipython3",
   "version": "3.7.4"
  }
 },
 "nbformat": 4,
 "nbformat_minor": 2
}
