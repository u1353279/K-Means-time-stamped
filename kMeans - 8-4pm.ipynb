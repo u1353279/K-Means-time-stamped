{
 "cells": [
  {
   "cell_type": "markdown",
   "metadata": {},
   "source": [
    "# Creating a K-means clusterig model to find the fault classes in a PV installation"
   ]
  },
  {
   "cell_type": "markdown",
   "metadata": {},
   "source": [
    "Importing Modules"
   ]
  },
  {
   "cell_type": "code",
   "execution_count": 40,
   "metadata": {},
   "outputs": [],
   "source": [
    "from sklearn.cluster import KMeans\n",
    "from sklearn.preprocessing import MinMaxScaler\n",
    "from matplotlib import pyplot as plt\n",
    "%matplotlib inline\n",
    "import pandas as pd"
   ]
  },
  {
   "cell_type": "code",
   "execution_count": 41,
   "metadata": {},
   "outputs": [],
   "source": [
    "df_new=pd.read_excel('time.xlsx')"
   ]
  },
  {
   "cell_type": "markdown",
   "metadata": {},
   "source": [
    "for loop to take only the average of the avlues between the  zero values(nigths) and append to a list"
   ]
  },
  {
   "cell_type": "code",
   "execution_count": 44,
   "metadata": {},
   "outputs": [
    {
     "name": "stdout",
     "output_type": "stream",
     "text": [
      "[0.4483353357232698, 0.5204140761755487, 0.2590187684713375, 0.7032743365030676, 0.822867346043166, 0.2655193902302631, 1.2099770722222225, 0.4536909761801239, 0.2967947560126583, 0.43690678081761, 0.4025675678233438, 0.5265060099071206, 0.4580686947040496, 0.6765969259259259, 0.6148298468277943, 0.4913150735562304, 0.468506022530864, 0.6901209980434779, 0.3945690816081504, 0.29915744775641023, 0.5405380183333331, 0.7787173098159509, 0.4337191224025974, 0.3644046970588235, 0.40735985765472305, 0.3789997074675325, 0.4714501061093245, 0.8160812817679555, 10.299753333333333, 0.7305523831746035, 0.4499315535031848, 0.2088677152027027, 0.4249714499999998, 0.34042816411960136, 0.3380527684385382, 0.8072534031413611, 0.3502856326259946, 0.44019944122562665, 0.4105238271708682, 0.44104167315492937, 0.46949263578378386, 0.3902880164971747, 0.6728597223478262, 0.43730087078651686, 0.2263176855555555, 0.4114143428160918, 0.3949417322857141, 0.39717222134831454, 14.974699999999999, 0.42194411027777773, 0.5699727726872248, 0.5875759260115605, 0.3949883630373561, 0.45942143600550944, 0.4984901377150535, 0.4490246959893044, 0.4399798306590259, 1.347615097647059, 0.42888847354395604, 0.2673841949720671, 0.31402045816618906, 0.5850695069252078, 13.784819999999987, 0.399200679614325, 0.4903070809689264, 0.4187434848623852, 0.37222490670553937, 0.2628288295321637, 0.46397961918604613, 0.4007283615819209, 0.5012431859544161, 0.5005780899721447]\n"
     ]
    }
   ],
   "source": [
    "total=0\n",
    "g_avg=[]\n",
    "output=[]\n",
    "counter=0\n",
    "for x in df_new[df_new['T']>8]['G']:\n",
    "    if (x<16):\n",
    "        counter+=1\n",
    "        total+=x\n",
    "    if(x>16 and counter!=0):\n",
    "        z=total/counter\n",
    "        g_avg.append(z)\n",
    "        counter=0\n",
    "        total=0\n",
    "print(g_avg)"
   ]
  },
  {
   "cell_type": "code",
   "execution_count": 45,
   "metadata": {},
   "outputs": [
    {
     "name": "stdout",
     "output_type": "stream",
     "text": [
      "[0.7652772736507937, 0.39845860841423947, 0.1601703569579288, 0.4036320787096774, 1.3017648375, 0.17512057133779266, 13.221633333333335, 0.6687252505555555, 0.2565899357827476, 0.22957448553054668, 0.2597327612903225, 0.2935628129032258, 0.3876965111464968, 0.3416599392971245, 0.5020576851648353, 0.5126536981366461, 0.3450093775700935, 0.43388472955974855, 0.9674374390566035, 0.2889678717923323, 0.24698671850649356, 0.6025462553672316, 0.7288957295597487, 0.2816170993377484, 0.31375003344370866, 0.311127738410596, 0.26854701353135324, 0.4102681637254903, 0.7269293761363639, 11.60564, 0.6131392935275082, 0.36853753322580646, 0.15059829693877555, 0.3832791627062706, 0.27293323489932886, 0.27048962080536915, 0.868998772486772, 0.3889870559681696, 0.43436481061452503, 0.4034308039325841, 0.43626556700564983, 0.47239352652303507, 0.38065626886685544, 0.6007392625000004, 0.4207855977591037, 0.24287449471590905, 0.35956441120689653, 0.39374445669515673, 0.42964019972067047, 0.7044775737127369, 0.5675253513157894, 1.1176687559289618, 0.481754469717514, 0.6187511817876344, 14.935699999999999, 15.8998, 0.7459688835064938, 13.939458823529412, 0.7075456851554403, 0.4746032618644067, 14.788749999999999, 1.3734498154135344, 13.60297619047619, 15.0975, 0.7822010083072919, 11.601872307692307, 1.2926839069651734, 0.5105449347645429, 0.9552184839378242, 0.7315004658823533, 0.6912584125135135, 0.769601106190476, 15.632850000000001, 15.6266, 1.4064327164619164, 15.76215, 1.253261757882653, 15.9468, 15.8915, 1.790153486682692, 0.8864419215877866, 0.7667757481723239, 2.033576761866359]\n"
     ]
    }
   ],
   "source": [
    "total=0\n",
    "p_avg=[]\n",
    "output=[]\n",
    "counter=0\n",
    "for x in df_new[df_new['T']>8]['P']:\n",
    "    if (x<16):\n",
    "        counter+=1\n",
    "        total+=x\n",
    "    if(x>16 and counter!=0):\n",
    "        z=total/counter\n",
    "        p_avg.append(z)\n",
    "        counter=0\n",
    "        total=0\n",
    "print(p_avg)"
   ]
  },
  {
   "cell_type": "markdown",
   "metadata": {},
   "source": [
    "to add the new columns to the dataframe, we need to convert the lists to a pandas series so that the empty rows will be \n",
    "filled as 'NAN'"
   ]
  },
  {
   "cell_type": "code",
   "execution_count": 47,
   "metadata": {},
   "outputs": [],
   "source": [
    "df_new['g_avg'] = pd.Series(g_avg)\n",
    "df_new['p_avg'] = pd.Series(p_avg)"
   ]
  },
  {
   "cell_type": "markdown",
   "metadata": {},
   "source": [
    "Drop the original G and P"
   ]
  },
  {
   "cell_type": "code",
   "execution_count": 48,
   "metadata": {},
   "outputs": [],
   "source": [
    "df_new=df.drop(columns=['G','P','TIME','T'])"
   ]
  },
  {
   "cell_type": "code",
   "execution_count": 49,
   "metadata": {},
   "outputs": [
    {
     "data": {
      "text/html": [
       "<div>\n",
       "<style scoped>\n",
       "    .dataframe tbody tr th:only-of-type {\n",
       "        vertical-align: middle;\n",
       "    }\n",
       "\n",
       "    .dataframe tbody tr th {\n",
       "        vertical-align: top;\n",
       "    }\n",
       "\n",
       "    .dataframe thead th {\n",
       "        text-align: right;\n",
       "    }\n",
       "</style>\n",
       "<table border=\"1\" class=\"dataframe\">\n",
       "  <thead>\n",
       "    <tr style=\"text-align: right;\">\n",
       "      <th></th>\n",
       "      <th>g_avg</th>\n",
       "      <th>p_avg</th>\n",
       "    </tr>\n",
       "  </thead>\n",
       "  <tbody>\n",
       "    <tr>\n",
       "      <td>0</td>\n",
       "      <td>0.204120</td>\n",
       "      <td>0.177977</td>\n",
       "    </tr>\n",
       "    <tr>\n",
       "      <td>1</td>\n",
       "      <td>1.771161</td>\n",
       "      <td>2.994410</td>\n",
       "    </tr>\n",
       "    <tr>\n",
       "      <td>2</td>\n",
       "      <td>0.153537</td>\n",
       "      <td>4.534480</td>\n",
       "    </tr>\n",
       "    <tr>\n",
       "      <td>3</td>\n",
       "      <td>0.083723</td>\n",
       "      <td>2.425370</td>\n",
       "    </tr>\n",
       "    <tr>\n",
       "      <td>4</td>\n",
       "      <td>0.087648</td>\n",
       "      <td>0.168391</td>\n",
       "    </tr>\n",
       "    <tr>\n",
       "      <td>...</td>\n",
       "      <td>...</td>\n",
       "      <td>...</td>\n",
       "    </tr>\n",
       "    <tr>\n",
       "      <td>97195</td>\n",
       "      <td>NaN</td>\n",
       "      <td>NaN</td>\n",
       "    </tr>\n",
       "    <tr>\n",
       "      <td>97196</td>\n",
       "      <td>NaN</td>\n",
       "      <td>NaN</td>\n",
       "    </tr>\n",
       "    <tr>\n",
       "      <td>97197</td>\n",
       "      <td>NaN</td>\n",
       "      <td>NaN</td>\n",
       "    </tr>\n",
       "    <tr>\n",
       "      <td>97198</td>\n",
       "      <td>NaN</td>\n",
       "      <td>NaN</td>\n",
       "    </tr>\n",
       "    <tr>\n",
       "      <td>97199</td>\n",
       "      <td>NaN</td>\n",
       "      <td>NaN</td>\n",
       "    </tr>\n",
       "  </tbody>\n",
       "</table>\n",
       "<p>97200 rows × 2 columns</p>\n",
       "</div>"
      ],
      "text/plain": [
       "          g_avg     p_avg\n",
       "0      0.204120  0.177977\n",
       "1      1.771161  2.994410\n",
       "2      0.153537  4.534480\n",
       "3      0.083723  2.425370\n",
       "4      0.087648  0.168391\n",
       "...         ...       ...\n",
       "97195       NaN       NaN\n",
       "97196       NaN       NaN\n",
       "97197       NaN       NaN\n",
       "97198       NaN       NaN\n",
       "97199       NaN       NaN\n",
       "\n",
       "[97200 rows x 2 columns]"
      ]
     },
     "execution_count": 49,
     "metadata": {},
     "output_type": "execute_result"
    }
   ],
   "source": [
    "df_new"
   ]
  },
  {
   "cell_type": "markdown",
   "metadata": {},
   "source": [
    "Deleteing teh Nan rows"
   ]
  },
  {
   "cell_type": "code",
   "execution_count": 50,
   "metadata": {},
   "outputs": [
    {
     "data": {
      "text/html": [
       "<div>\n",
       "<style scoped>\n",
       "    .dataframe tbody tr th:only-of-type {\n",
       "        vertical-align: middle;\n",
       "    }\n",
       "\n",
       "    .dataframe tbody tr th {\n",
       "        vertical-align: top;\n",
       "    }\n",
       "\n",
       "    .dataframe thead th {\n",
       "        text-align: right;\n",
       "    }\n",
       "</style>\n",
       "<table border=\"1\" class=\"dataframe\">\n",
       "  <thead>\n",
       "    <tr style=\"text-align: right;\">\n",
       "      <th></th>\n",
       "      <th>g_avg</th>\n",
       "      <th>p_avg</th>\n",
       "    </tr>\n",
       "  </thead>\n",
       "  <tbody>\n",
       "    <tr>\n",
       "      <td>0</td>\n",
       "      <td>0.204120</td>\n",
       "      <td>0.177977</td>\n",
       "    </tr>\n",
       "    <tr>\n",
       "      <td>1</td>\n",
       "      <td>1.771161</td>\n",
       "      <td>2.994410</td>\n",
       "    </tr>\n",
       "    <tr>\n",
       "      <td>2</td>\n",
       "      <td>0.153537</td>\n",
       "      <td>4.534480</td>\n",
       "    </tr>\n",
       "    <tr>\n",
       "      <td>3</td>\n",
       "      <td>0.083723</td>\n",
       "      <td>2.425370</td>\n",
       "    </tr>\n",
       "    <tr>\n",
       "      <td>4</td>\n",
       "      <td>0.087648</td>\n",
       "      <td>0.168391</td>\n",
       "    </tr>\n",
       "    <tr>\n",
       "      <td>...</td>\n",
       "      <td>...</td>\n",
       "      <td>...</td>\n",
       "    </tr>\n",
       "    <tr>\n",
       "      <td>71</td>\n",
       "      <td>0.076401</td>\n",
       "      <td>0.147712</td>\n",
       "    </tr>\n",
       "    <tr>\n",
       "      <td>72</td>\n",
       "      <td>0.091561</td>\n",
       "      <td>0.126949</td>\n",
       "    </tr>\n",
       "    <tr>\n",
       "      <td>73</td>\n",
       "      <td>0.079992</td>\n",
       "      <td>0.178369</td>\n",
       "    </tr>\n",
       "    <tr>\n",
       "      <td>74</td>\n",
       "      <td>0.100372</td>\n",
       "      <td>0.153506</td>\n",
       "    </tr>\n",
       "    <tr>\n",
       "      <td>75</td>\n",
       "      <td>0.108245</td>\n",
       "      <td>0.164555</td>\n",
       "    </tr>\n",
       "  </tbody>\n",
       "</table>\n",
       "<p>76 rows × 2 columns</p>\n",
       "</div>"
      ],
      "text/plain": [
       "       g_avg     p_avg\n",
       "0   0.204120  0.177977\n",
       "1   1.771161  2.994410\n",
       "2   0.153537  4.534480\n",
       "3   0.083723  2.425370\n",
       "4   0.087648  0.168391\n",
       "..       ...       ...\n",
       "71  0.076401  0.147712\n",
       "72  0.091561  0.126949\n",
       "73  0.079992  0.178369\n",
       "74  0.100372  0.153506\n",
       "75  0.108245  0.164555\n",
       "\n",
       "[76 rows x 2 columns]"
      ]
     },
     "execution_count": 50,
     "metadata": {},
     "output_type": "execute_result"
    }
   ],
   "source": [
    "df_new.dropna()"
   ]
  },
  {
   "cell_type": "code",
   "execution_count": 51,
   "metadata": {},
   "outputs": [],
   "source": [
    "df_new = df_new.reset_index()"
   ]
  },
  {
   "cell_type": "code",
   "execution_count": 52,
   "metadata": {},
   "outputs": [
    {
     "data": {
      "text/html": [
       "<div>\n",
       "<style scoped>\n",
       "    .dataframe tbody tr th:only-of-type {\n",
       "        vertical-align: middle;\n",
       "    }\n",
       "\n",
       "    .dataframe tbody tr th {\n",
       "        vertical-align: top;\n",
       "    }\n",
       "\n",
       "    .dataframe thead th {\n",
       "        text-align: right;\n",
       "    }\n",
       "</style>\n",
       "<table border=\"1\" class=\"dataframe\">\n",
       "  <thead>\n",
       "    <tr style=\"text-align: right;\">\n",
       "      <th></th>\n",
       "      <th>index</th>\n",
       "      <th>g_avg</th>\n",
       "      <th>p_avg</th>\n",
       "    </tr>\n",
       "  </thead>\n",
       "  <tbody>\n",
       "    <tr>\n",
       "      <td>0</td>\n",
       "      <td>0</td>\n",
       "      <td>0.204120</td>\n",
       "      <td>0.177977</td>\n",
       "    </tr>\n",
       "    <tr>\n",
       "      <td>1</td>\n",
       "      <td>1</td>\n",
       "      <td>1.771161</td>\n",
       "      <td>2.994410</td>\n",
       "    </tr>\n",
       "    <tr>\n",
       "      <td>2</td>\n",
       "      <td>2</td>\n",
       "      <td>0.153537</td>\n",
       "      <td>4.534480</td>\n",
       "    </tr>\n",
       "    <tr>\n",
       "      <td>3</td>\n",
       "      <td>3</td>\n",
       "      <td>0.083723</td>\n",
       "      <td>2.425370</td>\n",
       "    </tr>\n",
       "    <tr>\n",
       "      <td>4</td>\n",
       "      <td>4</td>\n",
       "      <td>0.087648</td>\n",
       "      <td>0.168391</td>\n",
       "    </tr>\n",
       "    <tr>\n",
       "      <td>...</td>\n",
       "      <td>...</td>\n",
       "      <td>...</td>\n",
       "      <td>...</td>\n",
       "    </tr>\n",
       "    <tr>\n",
       "      <td>71</td>\n",
       "      <td>71</td>\n",
       "      <td>0.076401</td>\n",
       "      <td>0.147712</td>\n",
       "    </tr>\n",
       "    <tr>\n",
       "      <td>72</td>\n",
       "      <td>72</td>\n",
       "      <td>0.091561</td>\n",
       "      <td>0.126949</td>\n",
       "    </tr>\n",
       "    <tr>\n",
       "      <td>73</td>\n",
       "      <td>73</td>\n",
       "      <td>0.079992</td>\n",
       "      <td>0.178369</td>\n",
       "    </tr>\n",
       "    <tr>\n",
       "      <td>74</td>\n",
       "      <td>74</td>\n",
       "      <td>0.100372</td>\n",
       "      <td>0.153506</td>\n",
       "    </tr>\n",
       "    <tr>\n",
       "      <td>75</td>\n",
       "      <td>75</td>\n",
       "      <td>0.108245</td>\n",
       "      <td>0.164555</td>\n",
       "    </tr>\n",
       "  </tbody>\n",
       "</table>\n",
       "<p>76 rows × 3 columns</p>\n",
       "</div>"
      ],
      "text/plain": [
       "    index     g_avg     p_avg\n",
       "0       0  0.204120  0.177977\n",
       "1       1  1.771161  2.994410\n",
       "2       2  0.153537  4.534480\n",
       "3       3  0.083723  2.425370\n",
       "4       4  0.087648  0.168391\n",
       "..    ...       ...       ...\n",
       "71     71  0.076401  0.147712\n",
       "72     72  0.091561  0.126949\n",
       "73     73  0.079992  0.178369\n",
       "74     74  0.100372  0.153506\n",
       "75     75  0.108245  0.164555\n",
       "\n",
       "[76 rows x 3 columns]"
      ]
     },
     "execution_count": 52,
     "metadata": {},
     "output_type": "execute_result"
    }
   ],
   "source": [
    "df_new=df_new.dropna()\n",
    "df_new"
   ]
  },
  {
   "cell_type": "markdown",
   "metadata": {},
   "source": [
    "Carrying out the K-means model testing"
   ]
  },
  {
   "cell_type": "code",
   "execution_count": 53,
   "metadata": {},
   "outputs": [
    {
     "data": {
      "text/plain": [
       "KMeans(algorithm='auto', copy_x=True, init='k-means++', max_iter=300,\n",
       "       n_clusters=10, n_init=10, n_jobs=None, precompute_distances='auto',\n",
       "       random_state=None, tol=0.0001, verbose=0)"
      ]
     },
     "execution_count": 53,
     "metadata": {},
     "output_type": "execute_result"
    }
   ],
   "source": [
    "km=KMeans(n_clusters=10)\n",
    "km"
   ]
  },
  {
   "cell_type": "code",
   "execution_count": 54,
   "metadata": {},
   "outputs": [
    {
     "data": {
      "text/plain": [
       "array([2, 2, 2, 2, 2, 2, 2, 2, 9, 9, 9, 9, 5, 5, 5, 5, 5, 5, 5, 5, 0, 0,\n",
       "       0, 0, 0, 0, 0, 6, 6, 6, 6, 6, 6, 6, 6, 3, 3, 3, 3, 3, 3, 3, 3, 3,\n",
       "       8, 8, 8, 8, 8, 8, 8, 8, 1, 1, 1, 1, 1, 1, 1, 1, 1, 7, 7, 7, 7, 7,\n",
       "       7, 7, 7, 7, 4, 4, 4, 4, 4, 4])"
      ]
     },
     "execution_count": 54,
     "metadata": {},
     "output_type": "execute_result"
    }
   ],
   "source": [
    "y_pred=km.fit_predict(df_new)\n",
    "y_pred"
   ]
  },
  {
   "cell_type": "code",
   "execution_count": 55,
   "metadata": {},
   "outputs": [
    {
     "data": {
      "text/html": [
       "<div>\n",
       "<style scoped>\n",
       "    .dataframe tbody tr th:only-of-type {\n",
       "        vertical-align: middle;\n",
       "    }\n",
       "\n",
       "    .dataframe tbody tr th {\n",
       "        vertical-align: top;\n",
       "    }\n",
       "\n",
       "    .dataframe thead th {\n",
       "        text-align: right;\n",
       "    }\n",
       "</style>\n",
       "<table border=\"1\" class=\"dataframe\">\n",
       "  <thead>\n",
       "    <tr style=\"text-align: right;\">\n",
       "      <th></th>\n",
       "      <th>index</th>\n",
       "      <th>g_avg</th>\n",
       "      <th>p_avg</th>\n",
       "      <th>cluster</th>\n",
       "    </tr>\n",
       "  </thead>\n",
       "  <tbody>\n",
       "    <tr>\n",
       "      <td>0</td>\n",
       "      <td>0</td>\n",
       "      <td>0.204120</td>\n",
       "      <td>0.177977</td>\n",
       "      <td>2</td>\n",
       "    </tr>\n",
       "    <tr>\n",
       "      <td>1</td>\n",
       "      <td>1</td>\n",
       "      <td>1.771161</td>\n",
       "      <td>2.994410</td>\n",
       "      <td>2</td>\n",
       "    </tr>\n",
       "    <tr>\n",
       "      <td>2</td>\n",
       "      <td>2</td>\n",
       "      <td>0.153537</td>\n",
       "      <td>4.534480</td>\n",
       "      <td>2</td>\n",
       "    </tr>\n",
       "    <tr>\n",
       "      <td>3</td>\n",
       "      <td>3</td>\n",
       "      <td>0.083723</td>\n",
       "      <td>2.425370</td>\n",
       "      <td>2</td>\n",
       "    </tr>\n",
       "    <tr>\n",
       "      <td>4</td>\n",
       "      <td>4</td>\n",
       "      <td>0.087648</td>\n",
       "      <td>0.168391</td>\n",
       "      <td>2</td>\n",
       "    </tr>\n",
       "  </tbody>\n",
       "</table>\n",
       "</div>"
      ],
      "text/plain": [
       "   index     g_avg     p_avg  cluster\n",
       "0      0  0.204120  0.177977        2\n",
       "1      1  1.771161  2.994410        2\n",
       "2      2  0.153537  4.534480        2\n",
       "3      3  0.083723  2.425370        2\n",
       "4      4  0.087648  0.168391        2"
      ]
     },
     "execution_count": 55,
     "metadata": {},
     "output_type": "execute_result"
    }
   ],
   "source": [
    "df_new['cluster']=y_pred\n",
    "df_new.head()"
   ]
  },
  {
   "cell_type": "code",
   "execution_count": 73,
   "metadata": {},
   "outputs": [
    {
     "data": {
      "text/plain": [
       "array([[0.02448013, 0.01818681],\n",
       "       [0.04822732, 0.79575245],\n",
       "       [0.97572294, 0.30791833]])"
      ]
     },
     "execution_count": 73,
     "metadata": {},
     "output_type": "execute_result"
    }
   ],
   "source": [
    "km.cluster_centers_"
   ]
  },
  {
   "cell_type": "code",
   "execution_count": 74,
   "metadata": {},
   "outputs": [
    {
     "data": {
      "text/plain": [
       "Text(0, 0.5, 'P')"
      ]
     },
     "execution_count": 74,
     "metadata": {},
     "output_type": "execute_result"
    },
    {
     "data": {
      "image/png": "[encoded data removed]",
      "text/plain": [
       "<Figure size 432x288 with 1 Axes>"
      ]
     },
     "metadata": {
      "needs_background": "light"
     },
     "output_type": "display_data"
    }
   ],
   "source": [
    "df0=df_new[df_new.cluster==0]\n",
    "df1=df_new[df_new.cluster==1]\n",
    "df2=df_new[df_new.cluster==2]\n",
    "df3=df_new[df_new.cluster==3]\n",
    "df4=df_new[df_new.cluster==4]\n",
    "df5=df_new[df_new.cluster==5]\n",
    "df6=df_new[df_new.cluster==6]\n",
    "df7=df_new[df_new.cluster==7]\n",
    "df8=df_new[df_new.cluster==8]\n",
    "df9=df_new[df_new.cluster==9]\n",
    "\n",
    "plt.scatter(df0.g_avg,df0.p_avg, color='g')\n",
    "plt.scatter(df1.g_avg,df1.p_avg, color='b')\n",
    "plt.scatter(df2.g_avg,df2.p_avg, color='blue')\n",
    "plt.scatter(df3.g_avg,df3.p_avg, color='yellow')\n",
    "plt.scatter(df4.g_avg,df4.p_avg, color='red')\n",
    "plt.scatter(df5.g_avg,df5.p_avg, color='orange')\n",
    "plt.scatter(df6.g_avg,df6.p_avg, color='purple')\n",
    "plt.scatter(df7.g_avg,df7.p_avg, color='grey')\n",
    "plt.scatter(df8.g_avg,df8.p_avg, color='silver')\n",
    "plt.scatter(df9.g_avg,df9.p_avg, color='brown')\n",
    "\n",
    "plt.scatter(km.cluster_centers_[:,0],km.cluster_centers_[:,1], color='r', marker='*')\n",
    "\n",
    "plt.xlabel('G')\n",
    "plt.ylabel('P')"
   ]
  },
  {
   "cell_type": "markdown",
   "metadata": {},
   "source": [
    "data nomalisation"
   ]
  },
  {
   "cell_type": "code",
   "execution_count": 57,
   "metadata": {},
   "outputs": [
    {
     "data": {
      "text/html": [
       "<div>\n",
       "<style scoped>\n",
       "    .dataframe tbody tr th:only-of-type {\n",
       "        vertical-align: middle;\n",
       "    }\n",
       "\n",
       "    .dataframe tbody tr th {\n",
       "        vertical-align: top;\n",
       "    }\n",
       "\n",
       "    .dataframe thead th {\n",
       "        text-align: right;\n",
       "    }\n",
       "</style>\n",
       "<table border=\"1\" class=\"dataframe\">\n",
       "  <thead>\n",
       "    <tr style=\"text-align: right;\">\n",
       "      <th></th>\n",
       "      <th>index</th>\n",
       "      <th>g_avg</th>\n",
       "      <th>p_avg</th>\n",
       "      <th>cluster</th>\n",
       "    </tr>\n",
       "  </thead>\n",
       "  <tbody>\n",
       "    <tr>\n",
       "      <td>0</td>\n",
       "      <td>0</td>\n",
       "      <td>0.031006</td>\n",
       "      <td>0.026438</td>\n",
       "      <td>2</td>\n",
       "    </tr>\n",
       "    <tr>\n",
       "      <td>1</td>\n",
       "      <td>1</td>\n",
       "      <td>0.372474</td>\n",
       "      <td>0.619634</td>\n",
       "      <td>2</td>\n",
       "    </tr>\n",
       "    <tr>\n",
       "      <td>2</td>\n",
       "      <td>2</td>\n",
       "      <td>0.019984</td>\n",
       "      <td>0.944003</td>\n",
       "      <td>2</td>\n",
       "    </tr>\n",
       "    <tr>\n",
       "      <td>3</td>\n",
       "      <td>3</td>\n",
       "      <td>0.004771</td>\n",
       "      <td>0.499783</td>\n",
       "      <td>2</td>\n",
       "    </tr>\n",
       "    <tr>\n",
       "      <td>4</td>\n",
       "      <td>4</td>\n",
       "      <td>0.005626</td>\n",
       "      <td>0.024418</td>\n",
       "      <td>2</td>\n",
       "    </tr>\n",
       "  </tbody>\n",
       "</table>\n",
       "</div>"
      ],
      "text/plain": [
       "   index     g_avg     p_avg  cluster\n",
       "0      0  0.031006  0.026438        2\n",
       "1      1  0.372474  0.619634        2\n",
       "2      2  0.019984  0.944003        2\n",
       "3      3  0.004771  0.499783        2\n",
       "4      4  0.005626  0.024418        2"
      ]
     },
     "execution_count": 57,
     "metadata": {},
     "output_type": "execute_result"
    }
   ],
   "source": [
    "scaler= MinMaxScaler()\n",
    "scaler.fit(df_new[['g_avg']])\n",
    "df_new[['g_avg']]=scaler.transform(df_new[['g_avg']])\n",
    "scaler.fit(df_new[['p_avg']])\n",
    "df_new[['p_avg']]=scaler.transform(df_new[['p_avg']])\n",
    "df_new.head()"
   ]
  },
  {
   "cell_type": "code",
   "execution_count": 64,
   "metadata": {},
   "outputs": [
    {
     "data": {
      "text/plain": [
       "array([5, 5, 5, 5, 5, 5, 5, 5, 8, 8, 8, 8, 1, 1, 1, 1, 1, 1, 1, 1, 6, 6,\n",
       "       6, 6, 6, 6, 6, 3, 3, 3, 3, 3, 3, 3, 3, 7, 7, 7, 7, 7, 7, 7, 7, 7,\n",
       "       0, 0, 0, 0, 0, 0, 0, 0, 4, 4, 4, 4, 4, 4, 4, 4, 4, 2, 2, 2, 2, 2,\n",
       "       2, 2, 2, 2, 9, 9, 9, 9, 9, 9])"
      ]
     },
     "execution_count": 64,
     "metadata": {},
     "output_type": "execute_result"
    }
   ],
   "source": [
    "y_pred=km.fit_predict(df_new)\n",
    "y_pred"
   ]
  },
  {
   "cell_type": "code",
   "execution_count": 65,
   "metadata": {},
   "outputs": [
    {
     "data": {
      "text/html": [
       "<div>\n",
       "<style scoped>\n",
       "    .dataframe tbody tr th:only-of-type {\n",
       "        vertical-align: middle;\n",
       "    }\n",
       "\n",
       "    .dataframe tbody tr th {\n",
       "        vertical-align: top;\n",
       "    }\n",
       "\n",
       "    .dataframe thead th {\n",
       "        text-align: right;\n",
       "    }\n",
       "</style>\n",
       "<table border=\"1\" class=\"dataframe\">\n",
       "  <thead>\n",
       "    <tr style=\"text-align: right;\">\n",
       "      <th></th>\n",
       "      <th>index</th>\n",
       "      <th>g_avg</th>\n",
       "      <th>p_avg</th>\n",
       "      <th>cluster</th>\n",
       "    </tr>\n",
       "  </thead>\n",
       "  <tbody>\n",
       "    <tr>\n",
       "      <td>0</td>\n",
       "      <td>0</td>\n",
       "      <td>0.031006</td>\n",
       "      <td>0.026438</td>\n",
       "      <td>5</td>\n",
       "    </tr>\n",
       "    <tr>\n",
       "      <td>1</td>\n",
       "      <td>1</td>\n",
       "      <td>0.372474</td>\n",
       "      <td>0.619634</td>\n",
       "      <td>5</td>\n",
       "    </tr>\n",
       "    <tr>\n",
       "      <td>2</td>\n",
       "      <td>2</td>\n",
       "      <td>0.019984</td>\n",
       "      <td>0.944003</td>\n",
       "      <td>5</td>\n",
       "    </tr>\n",
       "    <tr>\n",
       "      <td>3</td>\n",
       "      <td>3</td>\n",
       "      <td>0.004771</td>\n",
       "      <td>0.499783</td>\n",
       "      <td>5</td>\n",
       "    </tr>\n",
       "    <tr>\n",
       "      <td>4</td>\n",
       "      <td>4</td>\n",
       "      <td>0.005626</td>\n",
       "      <td>0.024418</td>\n",
       "      <td>5</td>\n",
       "    </tr>\n",
       "  </tbody>\n",
       "</table>\n",
       "</div>"
      ],
      "text/plain": [
       "   index     g_avg     p_avg  cluster\n",
       "0      0  0.031006  0.026438        5\n",
       "1      1  0.372474  0.619634        5\n",
       "2      2  0.019984  0.944003        5\n",
       "3      3  0.004771  0.499783        5\n",
       "4      4  0.005626  0.024418        5"
      ]
     },
     "execution_count": 65,
     "metadata": {},
     "output_type": "execute_result"
    }
   ],
   "source": [
    "df_new['cluster']=y_pred\n",
    "df_new.head()"
   ]
  },
  {
   "cell_type": "code",
   "execution_count": 75,
   "metadata": {},
   "outputs": [
    {
     "data": {
      "text/plain": [
       "Text(0, 0.5, 'P')"
      ]
     },
     "execution_count": 75,
     "metadata": {},
     "output_type": "execute_result"
    },
    {
     "data": {
      "image/png": "[encoded data removed]",
      "text/plain": [
       "<Figure size 432x288 with 1 Axes>"
      ]
     },
     "metadata": {
      "needs_background": "light"
     },
     "output_type": "display_data"
    }
   ],
   "source": [
    "df0=df_new[df_new.cluster==0]\n",
    "df1=df_new[df_new.cluster==1]\n",
    "df2=df_new[df_new.cluster==2]\n",
    "df3=df_new[df_new.cluster==3]\n",
    "df4=df_new[df_new.cluster==4]\n",
    "df5=df_new[df_new.cluster==5]\n",
    "df6=df_new[df_new.cluster==6]\n",
    "df7=df_new[df_new.cluster==7]\n",
    "df8=df_new[df_new.cluster==8]\n",
    "df9=df_new[df_new.cluster==9]\n",
    "\n",
    "plt.scatter(df0.g_avg,df0.p_avg, color='g')\n",
    "plt.scatter(df1.g_avg,df1.p_avg, color='b')\n",
    "plt.scatter(df2.g_avg,df2.p_avg, color='blue')\n",
    "plt.scatter(df3.g_avg,df3.p_avg, color='yellow')\n",
    "plt.scatter(df4.g_avg,df4.p_avg, color='red')\n",
    "plt.scatter(df5.g_avg,df5.p_avg, color='orange')\n",
    "plt.scatter(df6.g_avg,df6.p_avg, color='purple')\n",
    "plt.scatter(df7.g_avg,df7.p_avg, color='grey')\n",
    "plt.scatter(df8.g_avg,df8.p_avg, color='silver')\n",
    "plt.scatter(df9.g_avg,df9.p_avg, color='brown')\n",
    "\n",
    "plt.scatter(km.cluster_centers_[:,0],km.cluster_centers_[:,1], color='r', marker='*')\n",
    "\n",
    "plt.xlabel('G')\n",
    "plt.ylabel('P')"
   ]
  },
  {
   "cell_type": "markdown",
   "metadata": {},
   "source": [
    "Implementing a the elbow technique to find the optimal K value"
   ]
  },
  {
   "cell_type": "code",
   "execution_count": 67,
   "metadata": {},
   "outputs": [
    {
     "data": {
      "text/plain": [
       "[9.162755850218838,\n",
       " 3.3233574334691625,\n",
       " 1.253676927516592,\n",
       " 0.7133072221383387,\n",
       " 0.3551501516023259,\n",
       " 0.20368602057140262,\n",
       " 0.10008162537466786,\n",
       " 0.06272409171643276,\n",
       " 0.0423807145465034,\n",
       " 0.02887275020841827]"
      ]
     },
     "execution_count": 67,
     "metadata": {},
     "output_type": "execute_result"
    }
   ],
   "source": [
    "k_range=range(1,11)\n",
    "sse=[]\n",
    "for k in k_range:\n",
    "    km=KMeans(n_clusters=k)\n",
    "    km.fit(df_new[['g_avg','p_avg']])\n",
    "    sse.append(km.inertia_)\n",
    "sse"
   ]
  },
  {
   "cell_type": "code",
   "execution_count": 68,
   "metadata": {},
   "outputs": [
    {
     "data": {
      "text/plain": [
       "[<matplotlib.lines.Line2D at 0x271ccfe7b48>]"
      ]
     },
     "execution_count": 68,
     "metadata": {},
     "output_type": "execute_result"
    },
    {
     "data": {
      "image/png": "[encoded data removed]",
      "text/plain": [
       "<Figure size 432x288 with 1 Axes>"
      ]
     },
     "metadata": {
      "needs_background": "light"
     },
     "output_type": "display_data"
    }
   ],
   "source": [
    "plt.plot(k_range,sse)"
   ]
  },
  {
   "cell_type": "code",
   "execution_count": 69,
   "metadata": {},
   "outputs": [],
   "source": [
    "km=KMeans(n_clusters=3)\n",
    "y_pred=km.fit_predict(df_new[['g_avg','p_avg']])"
   ]
  },
  {
   "cell_type": "code",
   "execution_count": 70,
   "metadata": {},
   "outputs": [],
   "source": [
    "df_new['cluster']=y_pred"
   ]
  },
  {
   "cell_type": "code",
   "execution_count": 76,
   "metadata": {},
   "outputs": [
    {
     "data": {
      "text/plain": [
       "Text(0, 0.5, 'P')"
      ]
     },
     "execution_count": 76,
     "metadata": {},
     "output_type": "execute_result"
    },
    {
     "data": {
      "image/png": "[encoded data removed]",
      "text/plain": [
       "<Figure size 432x288 with 1 Axes>"
      ]
     },
     "metadata": {
      "needs_background": "light"
     },
     "output_type": "display_data"
    }
   ],
   "source": [
    "df0=df_new[df_new.cluster==0]\n",
    "df1=df_new[df_new.cluster==1]\n",
    "df2=df_new[df_new.cluster==2]\n",
    "\n",
    "\n",
    "plt.scatter(df0.g_avg,df0.p_avg, color='g')\n",
    "plt.scatter(df1.g_avg,df1.p_avg, color='black')\n",
    "plt.scatter(df2.g_avg,df2.p_avg, color='y')\n",
    "\n",
    "plt.scatter(km.cluster_centers_[:,0],km.cluster_centers_[:,1], color='r', marker='*')\n",
    "\n",
    "plt.xlabel('G')\n",
    "plt.ylabel('P')"
   ]
  },
  {
   "cell_type": "code",
   "execution_count": 72,
   "metadata": {},
   "outputs": [
    {
     "data": {
      "text/plain": [
       "count    76.000000\n",
       "mean      0.065154\n",
       "std       0.198804\n",
       "min       0.000000\n",
       "25%       0.007463\n",
       "50%       0.011565\n",
       "75%       0.019892\n",
       "max       1.000000\n",
       "Name: g_avg, dtype: float64"
      ]
     },
     "execution_count": 72,
     "metadata": {},
     "output_type": "execute_result"
    }
   ],
   "source": [
    "df_new['g_avg'].describe()"
   ]
  }
 ],
 "metadata": {
  "kernelspec": {
   "display_name": "Python 3",
   "language": "python",
   "name": "python3"
  },
  "language_info": {
   "codemirror_mode": {
    "name": "ipython",
    "version": 3
   },
   "file_extension": ".py",
   "mimetype": "text/x-python",
   "name": "python",
   "nbconvert_exporter": "python",
   "pygments_lexer": "ipython3",
   "version": "3.7.4"
  }
 },
 "nbformat": 4,
 "nbformat_minor": 2
}
