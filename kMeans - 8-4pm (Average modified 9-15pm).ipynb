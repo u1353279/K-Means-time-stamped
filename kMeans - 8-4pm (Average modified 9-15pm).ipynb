{
 "cells": [
  {
   "cell_type": "markdown",
   "metadata": {},
   "source": [
    "# Creating a K-means clusterig model to find the fault classes in a PV installation"
   ]
  },
  {
   "cell_type": "markdown",
   "metadata": {},
   "source": [
    "Importing Modules"
   ]
  },
  {
   "cell_type": "code",
   "execution_count": 32,
   "metadata": {},
   "outputs": [],
   "source": [
    "from sklearn.cluster import KMeans\n",
    "from sklearn.preprocessing import MinMaxScaler\n",
    "from matplotlib import pyplot as plt\n",
    "%matplotlib inline\n",
    "import pandas as pd"
   ]
  },
  {
   "cell_type": "code",
   "execution_count": 28,
   "metadata": {},
   "outputs": [],
   "source": [
    "df_new=pd.read_excel('time.xlsx')"
   ]
  },
  {
   "cell_type": "markdown",
   "metadata": {},
   "source": [
    "to add the new columns to the dataframe, we need to convert the lists to a pandas series so that the empty rows will be \n",
    "filled as 'NAN'"
   ]
  },
  {
   "cell_type": "markdown",
   "metadata": {},
   "source": [
    "Drop the original last column"
   ]
  },
  {
   "cell_type": "code",
   "execution_count": 42,
   "metadata": {},
   "outputs": [],
   "source": [
    "df_new=df_new.iloc[:,:-1]"
   ]
  },
  {
   "cell_type": "code",
   "execution_count": 43,
   "metadata": {},
   "outputs": [
    {
     "data": {
      "text/html": [
       "<div>\n",
       "<style scoped>\n",
       "    .dataframe tbody tr th:only-of-type {\n",
       "        vertical-align: middle;\n",
       "    }\n",
       "\n",
       "    .dataframe tbody tr th {\n",
       "        vertical-align: top;\n",
       "    }\n",
       "\n",
       "    .dataframe thead th {\n",
       "        text-align: right;\n",
       "    }\n",
       "</style>\n",
       "<table border=\"1\" class=\"dataframe\">\n",
       "  <thead>\n",
       "    <tr style=\"text-align: right;\">\n",
       "      <th></th>\n",
       "      <th>T</th>\n",
       "      <th>G</th>\n",
       "      <th>P</th>\n",
       "    </tr>\n",
       "  </thead>\n",
       "  <tbody>\n",
       "    <tr>\n",
       "      <td>0</td>\n",
       "      <td>3</td>\n",
       "      <td>0.0</td>\n",
       "      <td>0.0</td>\n",
       "    </tr>\n",
       "    <tr>\n",
       "      <td>1</td>\n",
       "      <td>3</td>\n",
       "      <td>0.0</td>\n",
       "      <td>0.0</td>\n",
       "    </tr>\n",
       "    <tr>\n",
       "      <td>2</td>\n",
       "      <td>3</td>\n",
       "      <td>0.0</td>\n",
       "      <td>0.0</td>\n",
       "    </tr>\n",
       "    <tr>\n",
       "      <td>3</td>\n",
       "      <td>3</td>\n",
       "      <td>0.0</td>\n",
       "      <td>0.0</td>\n",
       "    </tr>\n",
       "    <tr>\n",
       "      <td>4</td>\n",
       "      <td>3</td>\n",
       "      <td>0.0</td>\n",
       "      <td>0.0</td>\n",
       "    </tr>\n",
       "    <tr>\n",
       "      <td>...</td>\n",
       "      <td>...</td>\n",
       "      <td>...</td>\n",
       "      <td>...</td>\n",
       "    </tr>\n",
       "    <tr>\n",
       "      <td>97195</td>\n",
       "      <td>21</td>\n",
       "      <td>0.0</td>\n",
       "      <td>0.0</td>\n",
       "    </tr>\n",
       "    <tr>\n",
       "      <td>97196</td>\n",
       "      <td>21</td>\n",
       "      <td>0.0</td>\n",
       "      <td>0.0</td>\n",
       "    </tr>\n",
       "    <tr>\n",
       "      <td>97197</td>\n",
       "      <td>21</td>\n",
       "      <td>0.0</td>\n",
       "      <td>0.0</td>\n",
       "    </tr>\n",
       "    <tr>\n",
       "      <td>97198</td>\n",
       "      <td>21</td>\n",
       "      <td>0.0</td>\n",
       "      <td>0.0</td>\n",
       "    </tr>\n",
       "    <tr>\n",
       "      <td>97199</td>\n",
       "      <td>21</td>\n",
       "      <td>0.0</td>\n",
       "      <td>0.0</td>\n",
       "    </tr>\n",
       "  </tbody>\n",
       "</table>\n",
       "<p>97200 rows × 3 columns</p>\n",
       "</div>"
      ],
      "text/plain": [
       "        T    G    P\n",
       "0       3  0.0  0.0\n",
       "1       3  0.0  0.0\n",
       "2       3  0.0  0.0\n",
       "3       3  0.0  0.0\n",
       "4       3  0.0  0.0\n",
       "...    ..  ...  ...\n",
       "97195  21  0.0  0.0\n",
       "97196  21  0.0  0.0\n",
       "97197  21  0.0  0.0\n",
       "97198  21  0.0  0.0\n",
       "97199  21  0.0  0.0\n",
       "\n",
       "[97200 rows x 3 columns]"
      ]
     },
     "execution_count": 43,
     "metadata": {},
     "output_type": "execute_result"
    }
   ],
   "source": [
    "df_new"
   ]
  },
  {
   "cell_type": "code",
   "execution_count": 48,
   "metadata": {},
   "outputs": [],
   "source": [
    "m = df_new['T'].between(8,16,inclusive=False)\n",
    "g = m.ne(m.shift()).cumsum()\n",
    "df_new['G_new'] = df_new.groupby(g)['G'].transform('mean')\n",
    "#export=df.to_excel(r'C:\\Users\\zahid.hussain\\exportdata.xlsx', index=None, header=True)"
   ]
  },
  {
   "cell_type": "code",
   "execution_count": 50,
   "metadata": {},
   "outputs": [
    {
     "data": {
      "text/html": [
       "<div>\n",
       "<style scoped>\n",
       "    .dataframe tbody tr th:only-of-type {\n",
       "        vertical-align: middle;\n",
       "    }\n",
       "\n",
       "    .dataframe tbody tr th {\n",
       "        vertical-align: top;\n",
       "    }\n",
       "\n",
       "    .dataframe thead th {\n",
       "        text-align: right;\n",
       "    }\n",
       "</style>\n",
       "<table border=\"1\" class=\"dataframe\">\n",
       "  <thead>\n",
       "    <tr style=\"text-align: right;\">\n",
       "      <th></th>\n",
       "      <th>T</th>\n",
       "      <th>G</th>\n",
       "      <th>P</th>\n",
       "      <th>G_new</th>\n",
       "      <th>P_new</th>\n",
       "    </tr>\n",
       "  </thead>\n",
       "  <tbody>\n",
       "    <tr>\n",
       "      <td>0</td>\n",
       "      <td>3</td>\n",
       "      <td>0.0</td>\n",
       "      <td>0.0</td>\n",
       "      <td>56.205594</td>\n",
       "      <td>123.328396</td>\n",
       "    </tr>\n",
       "    <tr>\n",
       "      <td>1</td>\n",
       "      <td>3</td>\n",
       "      <td>0.0</td>\n",
       "      <td>0.0</td>\n",
       "      <td>56.205594</td>\n",
       "      <td>123.328396</td>\n",
       "    </tr>\n",
       "    <tr>\n",
       "      <td>2</td>\n",
       "      <td>3</td>\n",
       "      <td>0.0</td>\n",
       "      <td>0.0</td>\n",
       "      <td>56.205594</td>\n",
       "      <td>123.328396</td>\n",
       "    </tr>\n",
       "    <tr>\n",
       "      <td>3</td>\n",
       "      <td>3</td>\n",
       "      <td>0.0</td>\n",
       "      <td>0.0</td>\n",
       "      <td>56.205594</td>\n",
       "      <td>123.328396</td>\n",
       "    </tr>\n",
       "    <tr>\n",
       "      <td>4</td>\n",
       "      <td>3</td>\n",
       "      <td>0.0</td>\n",
       "      <td>0.0</td>\n",
       "      <td>56.205594</td>\n",
       "      <td>123.328396</td>\n",
       "    </tr>\n",
       "    <tr>\n",
       "      <td>...</td>\n",
       "      <td>...</td>\n",
       "      <td>...</td>\n",
       "      <td>...</td>\n",
       "      <td>...</td>\n",
       "      <td>...</td>\n",
       "    </tr>\n",
       "    <tr>\n",
       "      <td>97195</td>\n",
       "      <td>21</td>\n",
       "      <td>0.0</td>\n",
       "      <td>0.0</td>\n",
       "      <td>45.375258</td>\n",
       "      <td>9.997262</td>\n",
       "    </tr>\n",
       "    <tr>\n",
       "      <td>97196</td>\n",
       "      <td>21</td>\n",
       "      <td>0.0</td>\n",
       "      <td>0.0</td>\n",
       "      <td>45.375258</td>\n",
       "      <td>9.997262</td>\n",
       "    </tr>\n",
       "    <tr>\n",
       "      <td>97197</td>\n",
       "      <td>21</td>\n",
       "      <td>0.0</td>\n",
       "      <td>0.0</td>\n",
       "      <td>45.375258</td>\n",
       "      <td>9.997262</td>\n",
       "    </tr>\n",
       "    <tr>\n",
       "      <td>97198</td>\n",
       "      <td>21</td>\n",
       "      <td>0.0</td>\n",
       "      <td>0.0</td>\n",
       "      <td>45.375258</td>\n",
       "      <td>9.997262</td>\n",
       "    </tr>\n",
       "    <tr>\n",
       "      <td>97199</td>\n",
       "      <td>21</td>\n",
       "      <td>0.0</td>\n",
       "      <td>0.0</td>\n",
       "      <td>45.375258</td>\n",
       "      <td>9.997262</td>\n",
       "    </tr>\n",
       "  </tbody>\n",
       "</table>\n",
       "<p>97200 rows × 5 columns</p>\n",
       "</div>"
      ],
      "text/plain": [
       "        T    G    P      G_new       P_new\n",
       "0       3  0.0  0.0  56.205594  123.328396\n",
       "1       3  0.0  0.0  56.205594  123.328396\n",
       "2       3  0.0  0.0  56.205594  123.328396\n",
       "3       3  0.0  0.0  56.205594  123.328396\n",
       "4       3  0.0  0.0  56.205594  123.328396\n",
       "...    ..  ...  ...        ...         ...\n",
       "97195  21  0.0  0.0  45.375258    9.997262\n",
       "97196  21  0.0  0.0  45.375258    9.997262\n",
       "97197  21  0.0  0.0  45.375258    9.997262\n",
       "97198  21  0.0  0.0  45.375258    9.997262\n",
       "97199  21  0.0  0.0  45.375258    9.997262\n",
       "\n",
       "[97200 rows x 5 columns]"
      ]
     },
     "execution_count": 50,
     "metadata": {},
     "output_type": "execute_result"
    }
   ],
   "source": [
    "x = df_new['T'].between(8,16,inclusive=False)\n",
    "p = x.ne(x.shift()).cumsum()\n",
    "df_new['P_new'] = df_new.groupby(p)['P'].transform('mean')\n",
    "#export=df.to_excel(r'C:\\Users\\zahid.hussain\\exportdata.xlsx', index=None, header=True)\n",
    "df_new"
   ]
  },
  {
   "cell_type": "code",
   "execution_count": 57,
   "metadata": {},
   "outputs": [
    {
     "data": {
      "text/html": [
       "<div>\n",
       "<style scoped>\n",
       "    .dataframe tbody tr th:only-of-type {\n",
       "        vertical-align: middle;\n",
       "    }\n",
       "\n",
       "    .dataframe tbody tr th {\n",
       "        vertical-align: top;\n",
       "    }\n",
       "\n",
       "    .dataframe thead th {\n",
       "        text-align: right;\n",
       "    }\n",
       "</style>\n",
       "<table border=\"1\" class=\"dataframe\">\n",
       "  <thead>\n",
       "    <tr style=\"text-align: right;\">\n",
       "      <th></th>\n",
       "      <th>T</th>\n",
       "      <th>G_new</th>\n",
       "      <th>P_new</th>\n",
       "    </tr>\n",
       "  </thead>\n",
       "  <tbody>\n",
       "    <tr>\n",
       "      <td>0</td>\n",
       "      <td>3</td>\n",
       "      <td>56.205594</td>\n",
       "      <td>123.328396</td>\n",
       "    </tr>\n",
       "    <tr>\n",
       "      <td>1</td>\n",
       "      <td>3</td>\n",
       "      <td>56.205594</td>\n",
       "      <td>123.328396</td>\n",
       "    </tr>\n",
       "    <tr>\n",
       "      <td>2</td>\n",
       "      <td>3</td>\n",
       "      <td>56.205594</td>\n",
       "      <td>123.328396</td>\n",
       "    </tr>\n",
       "    <tr>\n",
       "      <td>3</td>\n",
       "      <td>3</td>\n",
       "      <td>56.205594</td>\n",
       "      <td>123.328396</td>\n",
       "    </tr>\n",
       "    <tr>\n",
       "      <td>4</td>\n",
       "      <td>3</td>\n",
       "      <td>56.205594</td>\n",
       "      <td>123.328396</td>\n",
       "    </tr>\n",
       "    <tr>\n",
       "      <td>...</td>\n",
       "      <td>...</td>\n",
       "      <td>...</td>\n",
       "      <td>...</td>\n",
       "    </tr>\n",
       "    <tr>\n",
       "      <td>97195</td>\n",
       "      <td>21</td>\n",
       "      <td>45.375258</td>\n",
       "      <td>9.997262</td>\n",
       "    </tr>\n",
       "    <tr>\n",
       "      <td>97196</td>\n",
       "      <td>21</td>\n",
       "      <td>45.375258</td>\n",
       "      <td>9.997262</td>\n",
       "    </tr>\n",
       "    <tr>\n",
       "      <td>97197</td>\n",
       "      <td>21</td>\n",
       "      <td>45.375258</td>\n",
       "      <td>9.997262</td>\n",
       "    </tr>\n",
       "    <tr>\n",
       "      <td>97198</td>\n",
       "      <td>21</td>\n",
       "      <td>45.375258</td>\n",
       "      <td>9.997262</td>\n",
       "    </tr>\n",
       "    <tr>\n",
       "      <td>97199</td>\n",
       "      <td>21</td>\n",
       "      <td>45.375258</td>\n",
       "      <td>9.997262</td>\n",
       "    </tr>\n",
       "  </tbody>\n",
       "</table>\n",
       "<p>97200 rows × 3 columns</p>\n",
       "</div>"
      ],
      "text/plain": [
       "        T      G_new       P_new\n",
       "0       3  56.205594  123.328396\n",
       "1       3  56.205594  123.328396\n",
       "2       3  56.205594  123.328396\n",
       "3       3  56.205594  123.328396\n",
       "4       3  56.205594  123.328396\n",
       "...    ..        ...         ...\n",
       "97195  21  45.375258    9.997262\n",
       "97196  21  45.375258    9.997262\n",
       "97197  21  45.375258    9.997262\n",
       "97198  21  45.375258    9.997262\n",
       "97199  21  45.375258    9.997262\n",
       "\n",
       "[97200 rows x 3 columns]"
      ]
     },
     "execution_count": 57,
     "metadata": {},
     "output_type": "execute_result"
    }
   ],
   "source": [
    "\n",
    "df_new"
   ]
  },
  {
   "cell_type": "markdown",
   "metadata": {},
   "source": [
    "exporting to excel for verification"
   ]
  },
  {
   "cell_type": "code",
   "execution_count": 58,
   "metadata": {},
   "outputs": [],
   "source": [
    "export=df_new.to_excel(r'C:\\Users\\zahid.hussain\\g_p_avg.xlsx', index=None, header=True)"
   ]
  },
  {
   "cell_type": "markdown",
   "metadata": {},
   "source": [
    "to get the unique average values between 8-16 (9-15 actual readingds)"
   ]
  },
  {
   "cell_type": "code",
   "execution_count": 90,
   "metadata": {},
   "outputs": [],
   "source": [
    "z=df_new.P_new.unique()"
   ]
  },
  {
   "cell_type": "code",
   "execution_count": 103,
   "metadata": {},
   "outputs": [],
   "source": [
    "p=z[1::2]"
   ]
  },
  {
   "cell_type": "code",
   "execution_count": 105,
   "metadata": {},
   "outputs": [],
   "source": [
    "y=df_new.G_new.unique()"
   ]
  },
  {
   "cell_type": "code",
   "execution_count": 111,
   "metadata": {},
   "outputs": [],
   "source": [
    "g=y[1::2]"
   ]
  },
  {
   "cell_type": "markdown",
   "metadata": {},
   "source": [
    "create the new dataframe"
   ]
  },
  {
   "cell_type": "code",
   "execution_count": 166,
   "metadata": {},
   "outputs": [
    {
     "data": {
      "text/html": [
       "<div>\n",
       "<style scoped>\n",
       "    .dataframe tbody tr th:only-of-type {\n",
       "        vertical-align: middle;\n",
       "    }\n",
       "\n",
       "    .dataframe tbody tr th {\n",
       "        vertical-align: top;\n",
       "    }\n",
       "\n",
       "    .dataframe thead th {\n",
       "        text-align: right;\n",
       "    }\n",
       "</style>\n",
       "<table border=\"1\" class=\"dataframe\">\n",
       "  <thead>\n",
       "    <tr style=\"text-align: right;\">\n",
       "      <th></th>\n",
       "      <th>g_avg</th>\n",
       "      <th>p_avg</th>\n",
       "    </tr>\n",
       "  </thead>\n",
       "  <tbody>\n",
       "    <tr>\n",
       "      <td>0</td>\n",
       "      <td>140.108917</td>\n",
       "      <td>308.404302</td>\n",
       "    </tr>\n",
       "    <tr>\n",
       "      <td>1</td>\n",
       "      <td>236.312436</td>\n",
       "      <td>519.628464</td>\n",
       "    </tr>\n",
       "    <tr>\n",
       "      <td>2</td>\n",
       "      <td>184.061955</td>\n",
       "      <td>403.916031</td>\n",
       "    </tr>\n",
       "    <tr>\n",
       "      <td>3</td>\n",
       "      <td>126.781479</td>\n",
       "      <td>279.268931</td>\n",
       "    </tr>\n",
       "    <tr>\n",
       "      <td>4</td>\n",
       "      <td>206.944010</td>\n",
       "      <td>455.222386</td>\n",
       "    </tr>\n",
       "    <tr>\n",
       "      <td>...</td>\n",
       "      <td>...</td>\n",
       "      <td>...</td>\n",
       "    </tr>\n",
       "    <tr>\n",
       "      <td>65</td>\n",
       "      <td>136.385092</td>\n",
       "      <td>30.025310</td>\n",
       "    </tr>\n",
       "    <tr>\n",
       "      <td>66</td>\n",
       "      <td>286.297398</td>\n",
       "      <td>62.956717</td>\n",
       "    </tr>\n",
       "    <tr>\n",
       "      <td>67</td>\n",
       "      <td>301.259807</td>\n",
       "      <td>66.244266</td>\n",
       "    </tr>\n",
       "    <tr>\n",
       "      <td>68</td>\n",
       "      <td>136.058879</td>\n",
       "      <td>30.015204</td>\n",
       "    </tr>\n",
       "    <tr>\n",
       "      <td>69</td>\n",
       "      <td>318.306898</td>\n",
       "      <td>70.139322</td>\n",
       "    </tr>\n",
       "  </tbody>\n",
       "</table>\n",
       "<p>70 rows × 2 columns</p>\n",
       "</div>"
      ],
      "text/plain": [
       "         g_avg       p_avg\n",
       "0   140.108917  308.404302\n",
       "1   236.312436  519.628464\n",
       "2   184.061955  403.916031\n",
       "3   126.781479  279.268931\n",
       "4   206.944010  455.222386\n",
       "..         ...         ...\n",
       "65  136.385092   30.025310\n",
       "66  286.297398   62.956717\n",
       "67  301.259807   66.244266\n",
       "68  136.058879   30.015204\n",
       "69  318.306898   70.139322\n",
       "\n",
       "[70 rows x 2 columns]"
      ]
     },
     "execution_count": 166,
     "metadata": {},
     "output_type": "execute_result"
    }
   ],
   "source": [
    "df_new = pd.DataFrame({'g_avg':g, 'p_avg':p})\n",
    "df_new"
   ]
  },
  {
   "cell_type": "code",
   "execution_count": 167,
   "metadata": {},
   "outputs": [],
   "source": [
    "df_new = df_new.reset_index()"
   ]
  },
  {
   "cell_type": "markdown",
   "metadata": {},
   "source": [
    "Carrying out the K-means model testing"
   ]
  },
  {
   "cell_type": "code",
   "execution_count": 168,
   "metadata": {},
   "outputs": [
    {
     "data": {
      "text/plain": [
       "KMeans(algorithm='auto', copy_x=True, init='k-means++', max_iter=300,\n",
       "       n_clusters=10, n_init=10, n_jobs=None, precompute_distances='auto',\n",
       "       random_state=None, tol=0.0001, verbose=0)"
      ]
     },
     "execution_count": 168,
     "metadata": {},
     "output_type": "execute_result"
    }
   ],
   "source": [
    "km=KMeans(n_clusters=10)\n",
    "km"
   ]
  },
  {
   "cell_type": "code",
   "execution_count": 169,
   "metadata": {},
   "outputs": [
    {
     "data": {
      "text/plain": [
       "array([8, 1, 5, 8, 5, 3, 5, 3, 1, 1, 1, 5, 5, 5, 1, 1, 1, 1, 7, 5, 1, 8,\n",
       "       7, 7, 7, 7, 3, 6, 6, 6, 2, 2, 2, 6, 6, 2, 2, 9, 9, 6, 2, 9, 4, 4,\n",
       "       9, 9, 9, 9, 9, 9, 9, 4, 9, 4, 9, 4, 4, 4, 0, 0, 0, 0, 0, 0, 0, 4,\n",
       "       0, 0, 4, 0])"
      ]
     },
     "execution_count": 169,
     "metadata": {},
     "output_type": "execute_result"
    }
   ],
   "source": [
    "y_pred=km.fit_predict(df_new)\n",
    "y_pred"
   ]
  },
  {
   "cell_type": "code",
   "execution_count": 170,
   "metadata": {},
   "outputs": [
    {
     "data": {
      "text/html": [
       "<div>\n",
       "<style scoped>\n",
       "    .dataframe tbody tr th:only-of-type {\n",
       "        vertical-align: middle;\n",
       "    }\n",
       "\n",
       "    .dataframe tbody tr th {\n",
       "        vertical-align: top;\n",
       "    }\n",
       "\n",
       "    .dataframe thead th {\n",
       "        text-align: right;\n",
       "    }\n",
       "</style>\n",
       "<table border=\"1\" class=\"dataframe\">\n",
       "  <thead>\n",
       "    <tr style=\"text-align: right;\">\n",
       "      <th></th>\n",
       "      <th>index</th>\n",
       "      <th>g_avg</th>\n",
       "      <th>p_avg</th>\n",
       "      <th>cluster</th>\n",
       "    </tr>\n",
       "  </thead>\n",
       "  <tbody>\n",
       "    <tr>\n",
       "      <td>0</td>\n",
       "      <td>0</td>\n",
       "      <td>140.108917</td>\n",
       "      <td>308.404302</td>\n",
       "      <td>8</td>\n",
       "    </tr>\n",
       "    <tr>\n",
       "      <td>1</td>\n",
       "      <td>1</td>\n",
       "      <td>236.312436</td>\n",
       "      <td>519.628464</td>\n",
       "      <td>1</td>\n",
       "    </tr>\n",
       "    <tr>\n",
       "      <td>2</td>\n",
       "      <td>2</td>\n",
       "      <td>184.061955</td>\n",
       "      <td>403.916031</td>\n",
       "      <td>5</td>\n",
       "    </tr>\n",
       "    <tr>\n",
       "      <td>3</td>\n",
       "      <td>3</td>\n",
       "      <td>126.781479</td>\n",
       "      <td>279.268931</td>\n",
       "      <td>8</td>\n",
       "    </tr>\n",
       "    <tr>\n",
       "      <td>4</td>\n",
       "      <td>4</td>\n",
       "      <td>206.944010</td>\n",
       "      <td>455.222386</td>\n",
       "      <td>5</td>\n",
       "    </tr>\n",
       "  </tbody>\n",
       "</table>\n",
       "</div>"
      ],
      "text/plain": [
       "   index       g_avg       p_avg  cluster\n",
       "0      0  140.108917  308.404302        8\n",
       "1      1  236.312436  519.628464        1\n",
       "2      2  184.061955  403.916031        5\n",
       "3      3  126.781479  279.268931        8\n",
       "4      4  206.944010  455.222386        5"
      ]
     },
     "execution_count": 170,
     "metadata": {},
     "output_type": "execute_result"
    }
   ],
   "source": [
    "df_new['cluster']=y_pred\n",
    "df_new.head()"
   ]
  },
  {
   "cell_type": "code",
   "execution_count": 171,
   "metadata": {},
   "outputs": [
    {
     "data": {
      "text/plain": [
       "array([[ 62.9       , 306.50994864, 101.0779505 ],\n",
       "       [ 12.22222222, 276.70452966, 518.09453915],\n",
       "       [ 34.        , 277.89702579, 333.97889607],\n",
       "       [ 12.66666667, 430.41517857, 806.24127302],\n",
       "       [ 54.44444444, 181.29022283, 105.23088881],\n",
       "       [  9.57142857, 196.61287279, 400.25311054],\n",
       "       [ 31.66666667, 330.33411711, 433.43015387],\n",
       "       [ 22.4       , 418.43724843, 662.48827905],\n",
       "       [  8.        , 152.71155825, 294.16998913],\n",
       "       [ 45.91666667, 257.37910841, 215.40885042]])"
      ]
     },
     "execution_count": 171,
     "metadata": {},
     "output_type": "execute_result"
    }
   ],
   "source": [
    "km.cluster_centers_"
   ]
  },
  {
   "cell_type": "code",
   "execution_count": 172,
   "metadata": {},
   "outputs": [
    {
     "data": {
      "text/plain": [
       "Text(0, 0.5, 'P')"
      ]
     },
     "execution_count": 172,
     "metadata": {},
     "output_type": "execute_result"
    },
    {
     "data": {
      "image/png": "[encoded data removed]",
      "text/plain": [
       "<Figure size 432x288 with 1 Axes>"
      ]
     },
     "metadata": {
      "needs_background": "light"
     },
     "output_type": "display_data"
    }
   ],
   "source": [
    "df0=df_new[df_new.cluster==0]\n",
    "df1=df_new[df_new.cluster==1]\n",
    "df2=df_new[df_new.cluster==2]\n",
    "df3=df_new[df_new.cluster==3]\n",
    "df4=df_new[df_new.cluster==4]\n",
    "df5=df_new[df_new.cluster==5]\n",
    "df6=df_new[df_new.cluster==6]\n",
    "df7=df_new[df_new.cluster==7]\n",
    "df8=df_new[df_new.cluster==8]\n",
    "df9=df_new[df_new.cluster==9]\n",
    "\n",
    "plt.scatter(df0.g_avg,df0.p_avg, color='g')\n",
    "plt.scatter(df1.g_avg,df1.p_avg, color='b')\n",
    "plt.scatter(df2.g_avg,df2.p_avg, color='blue')\n",
    "plt.scatter(df3.g_avg,df3.p_avg, color='yellow')\n",
    "plt.scatter(df4.g_avg,df4.p_avg, color='red')\n",
    "plt.scatter(df5.g_avg,df5.p_avg, color='orange')\n",
    "plt.scatter(df6.g_avg,df6.p_avg, color='purple')\n",
    "plt.scatter(df7.g_avg,df7.p_avg, color='grey')\n",
    "plt.scatter(df8.g_avg,df8.p_avg, color='silver')\n",
    "plt.scatter(df9.g_avg,df9.p_avg, color='brown')\n",
    "\n",
    "plt.scatter(km.cluster_centers_[:,0],km.cluster_centers_[:,1], color='r', marker='*')\n",
    "\n",
    "plt.xlabel('G')\n",
    "plt.ylabel('P')"
   ]
  },
  {
   "cell_type": "markdown",
   "metadata": {},
   "source": [
    "data nomalisation"
   ]
  },
  {
   "cell_type": "code",
   "execution_count": 126,
   "metadata": {},
   "outputs": [
    {
     "data": {
      "text/html": [
       "<div>\n",
       "<style scoped>\n",
       "    .dataframe tbody tr th:only-of-type {\n",
       "        vertical-align: middle;\n",
       "    }\n",
       "\n",
       "    .dataframe tbody tr th {\n",
       "        vertical-align: top;\n",
       "    }\n",
       "\n",
       "    .dataframe thead th {\n",
       "        text-align: right;\n",
       "    }\n",
       "</style>\n",
       "<table border=\"1\" class=\"dataframe\">\n",
       "  <thead>\n",
       "    <tr style=\"text-align: right;\">\n",
       "      <th></th>\n",
       "      <th>index</th>\n",
       "      <th>g_avg</th>\n",
       "      <th>p_avg</th>\n",
       "      <th>cluster</th>\n",
       "    </tr>\n",
       "  </thead>\n",
       "  <tbody>\n",
       "    <tr>\n",
       "      <td>0</td>\n",
       "      <td>0</td>\n",
       "      <td>0.035368</td>\n",
       "      <td>0.347784</td>\n",
       "      <td>9</td>\n",
       "    </tr>\n",
       "    <tr>\n",
       "      <td>1</td>\n",
       "      <td>1</td>\n",
       "      <td>0.290674</td>\n",
       "      <td>0.611660</td>\n",
       "      <td>8</td>\n",
       "    </tr>\n",
       "    <tr>\n",
       "      <td>2</td>\n",
       "      <td>2</td>\n",
       "      <td>0.152011</td>\n",
       "      <td>0.467104</td>\n",
       "      <td>2</td>\n",
       "    </tr>\n",
       "    <tr>\n",
       "      <td>3</td>\n",
       "      <td>3</td>\n",
       "      <td>0.000000</td>\n",
       "      <td>0.311386</td>\n",
       "      <td>9</td>\n",
       "    </tr>\n",
       "    <tr>\n",
       "      <td>4</td>\n",
       "      <td>4</td>\n",
       "      <td>0.212736</td>\n",
       "      <td>0.531200</td>\n",
       "      <td>2</td>\n",
       "    </tr>\n",
       "  </tbody>\n",
       "</table>\n",
       "</div>"
      ],
      "text/plain": [
       "   index     g_avg     p_avg  cluster\n",
       "0      0  0.035368  0.347784        9\n",
       "1      1  0.290674  0.611660        8\n",
       "2      2  0.152011  0.467104        2\n",
       "3      3  0.000000  0.311386        9\n",
       "4      4  0.212736  0.531200        2"
      ]
     },
     "execution_count": 126,
     "metadata": {},
     "output_type": "execute_result"
    }
   ],
   "source": [
    "scaler= MinMaxScaler()\n",
    "scaler.fit(df_new[['g_avg']])\n",
    "df_new[['g_avg']]=scaler.transform(df_new[['g_avg']])\n",
    "scaler.fit(df_new[['p_avg']])\n",
    "df_new[['p_avg']]=scaler.transform(df_new[['p_avg']])\n",
    "df_new.head()"
   ]
  },
  {
   "cell_type": "code",
   "execution_count": 127,
   "metadata": {},
   "outputs": [
    {
     "data": {
      "text/plain": [
       "array([8, 8, 3, 8, 3, 3, 3, 3, 9, 9, 9, 7, 7, 7, 9, 9, 9, 0, 0, 0, 0, 0,\n",
       "       0, 0, 0, 0, 4, 4, 4, 4, 4, 4, 4, 4, 4, 4, 4, 2, 2, 2, 2, 2, 2, 2,\n",
       "       2, 5, 5, 5, 5, 5, 5, 5, 5, 1, 1, 1, 1, 1, 1, 1, 1, 1, 6, 6, 6, 6,\n",
       "       6, 6, 6, 6])"
      ]
     },
     "execution_count": 127,
     "metadata": {},
     "output_type": "execute_result"
    }
   ],
   "source": [
    "y_pred=km.fit_predict(df_new)\n",
    "y_pred"
   ]
  },
  {
   "cell_type": "code",
   "execution_count": 128,
   "metadata": {},
   "outputs": [
    {
     "data": {
      "text/html": [
       "<div>\n",
       "<style scoped>\n",
       "    .dataframe tbody tr th:only-of-type {\n",
       "        vertical-align: middle;\n",
       "    }\n",
       "\n",
       "    .dataframe tbody tr th {\n",
       "        vertical-align: top;\n",
       "    }\n",
       "\n",
       "    .dataframe thead th {\n",
       "        text-align: right;\n",
       "    }\n",
       "</style>\n",
       "<table border=\"1\" class=\"dataframe\">\n",
       "  <thead>\n",
       "    <tr style=\"text-align: right;\">\n",
       "      <th></th>\n",
       "      <th>index</th>\n",
       "      <th>g_avg</th>\n",
       "      <th>p_avg</th>\n",
       "      <th>cluster</th>\n",
       "    </tr>\n",
       "  </thead>\n",
       "  <tbody>\n",
       "    <tr>\n",
       "      <td>0</td>\n",
       "      <td>0</td>\n",
       "      <td>0.035368</td>\n",
       "      <td>0.347784</td>\n",
       "      <td>8</td>\n",
       "    </tr>\n",
       "    <tr>\n",
       "      <td>1</td>\n",
       "      <td>1</td>\n",
       "      <td>0.290674</td>\n",
       "      <td>0.611660</td>\n",
       "      <td>8</td>\n",
       "    </tr>\n",
       "    <tr>\n",
       "      <td>2</td>\n",
       "      <td>2</td>\n",
       "      <td>0.152011</td>\n",
       "      <td>0.467104</td>\n",
       "      <td>3</td>\n",
       "    </tr>\n",
       "    <tr>\n",
       "      <td>3</td>\n",
       "      <td>3</td>\n",
       "      <td>0.000000</td>\n",
       "      <td>0.311386</td>\n",
       "      <td>8</td>\n",
       "    </tr>\n",
       "    <tr>\n",
       "      <td>4</td>\n",
       "      <td>4</td>\n",
       "      <td>0.212736</td>\n",
       "      <td>0.531200</td>\n",
       "      <td>3</td>\n",
       "    </tr>\n",
       "  </tbody>\n",
       "</table>\n",
       "</div>"
      ],
      "text/plain": [
       "   index     g_avg     p_avg  cluster\n",
       "0      0  0.035368  0.347784        8\n",
       "1      1  0.290674  0.611660        8\n",
       "2      2  0.152011  0.467104        3\n",
       "3      3  0.000000  0.311386        8\n",
       "4      4  0.212736  0.531200        3"
      ]
     },
     "execution_count": 128,
     "metadata": {},
     "output_type": "execute_result"
    }
   ],
   "source": [
    "df_new['cluster']=y_pred\n",
    "df_new.head()"
   ]
  },
  {
   "cell_type": "code",
   "execution_count": 129,
   "metadata": {},
   "outputs": [
    {
     "data": {
      "text/plain": [
       "Text(0, 0.5, 'P')"
      ]
     },
     "execution_count": 129,
     "metadata": {},
     "output_type": "execute_result"
    },
    {
     "data": {
      "image/png": "[encoded data removed]",
      "text/plain": [
       "<Figure size 432x288 with 1 Axes>"
      ]
     },
     "metadata": {
      "needs_background": "light"
     },
     "output_type": "display_data"
    }
   ],
   "source": [
    "df0=df_new[df_new.cluster==0]\n",
    "df1=df_new[df_new.cluster==1]\n",
    "df2=df_new[df_new.cluster==2]\n",
    "df3=df_new[df_new.cluster==3]\n",
    "df4=df_new[df_new.cluster==4]\n",
    "df5=df_new[df_new.cluster==5]\n",
    "df6=df_new[df_new.cluster==6]\n",
    "df7=df_new[df_new.cluster==7]\n",
    "df8=df_new[df_new.cluster==8]\n",
    "df9=df_new[df_new.cluster==9]\n",
    "\n",
    "plt.scatter(df0.g_avg,df0.p_avg, color='g')\n",
    "plt.scatter(df1.g_avg,df1.p_avg, color='b')\n",
    "plt.scatter(df2.g_avg,df2.p_avg, color='blue')\n",
    "plt.scatter(df3.g_avg,df3.p_avg, color='yellow')\n",
    "plt.scatter(df4.g_avg,df4.p_avg, color='red')\n",
    "plt.scatter(df5.g_avg,df5.p_avg, color='orange')\n",
    "plt.scatter(df6.g_avg,df6.p_avg, color='purple')\n",
    "plt.scatter(df7.g_avg,df7.p_avg, color='grey')\n",
    "plt.scatter(df8.g_avg,df8.p_avg, color='silver')\n",
    "plt.scatter(df9.g_avg,df9.p_avg, color='brown')\n",
    "\n",
    "plt.scatter(km.cluster_centers_[:,0],km.cluster_centers_[:,1], color='r', marker='*')\n",
    "\n",
    "plt.xlabel('G')\n",
    "plt.ylabel('P')"
   ]
  },
  {
   "cell_type": "markdown",
   "metadata": {},
   "source": [
    "Implementing a the elbow technique to find the optimal K value"
   ]
  },
  {
   "cell_type": "code",
   "execution_count": 130,
   "metadata": {},
   "outputs": [
    {
     "data": {
      "text/plain": [
       "[7.597576596865716,\n",
       " 3.5721048090917513,\n",
       " 2.2524309047568627,\n",
       " 1.4753048310318515,\n",
       " 1.035037730915085,\n",
       " 0.8411656892631573,\n",
       " 0.6997079475645347,\n",
       " 0.613876271548053,\n",
       " 0.5506619695493731,\n",
       " 0.49442428560902685]"
      ]
     },
     "execution_count": 130,
     "metadata": {},
     "output_type": "execute_result"
    }
   ],
   "source": [
    "k_range=range(1,11)\n",
    "sse=[]\n",
    "for k in k_range:\n",
    "    km=KMeans(n_clusters=k)\n",
    "    km.fit(df_new[['g_avg','p_avg']])\n",
    "    sse.append(km.inertia_)\n",
    "sse"
   ]
  },
  {
   "cell_type": "code",
   "execution_count": 131,
   "metadata": {},
   "outputs": [
    {
     "data": {
      "text/plain": [
       "[<matplotlib.lines.Line2D at 0x28e47dda8c8>]"
      ]
     },
     "execution_count": 131,
     "metadata": {},
     "output_type": "execute_result"
    },
    {
     "data": {
      "image/png": "[encoded data removed]",
      "text/plain": [
       "<Figure size 432x288 with 1 Axes>"
      ]
     },
     "metadata": {
      "needs_background": "light"
     },
     "output_type": "display_data"
    }
   ],
   "source": [
    "plt.plot(k_range,sse)"
   ]
  },
  {
   "cell_type": "code",
   "execution_count": 136,
   "metadata": {},
   "outputs": [],
   "source": [
    "km=KMeans(n_clusters=2)\n",
    "y_pred=km.fit_predict(df_new[['g_avg','p_avg']])"
   ]
  },
  {
   "cell_type": "code",
   "execution_count": 137,
   "metadata": {},
   "outputs": [],
   "source": [
    "df_new['cluster']=y_pred"
   ]
  },
  {
   "cell_type": "code",
   "execution_count": 138,
   "metadata": {},
   "outputs": [
    {
     "data": {
      "text/plain": [
       "Text(0, 0.5, 'P')"
      ]
     },
     "execution_count": 138,
     "metadata": {},
     "output_type": "execute_result"
    },
    {
     "data": {
      "image/png": "[encoded data removed]",
      "text/plain": [
       "<Figure size 432x288 with 1 Axes>"
      ]
     },
     "metadata": {
      "needs_background": "light"
     },
     "output_type": "display_data"
    }
   ],
   "source": [
    "df0=df_new[df_new.cluster==0]\n",
    "df1=df_new[df_new.cluster==1]\n",
    "df2=df_new[df_new.cluster==2]\n",
    "\n",
    "\n",
    "plt.scatter(df0.g_avg,df0.p_avg, color='g')\n",
    "plt.scatter(df1.g_avg,df1.p_avg, color='black')\n",
    "plt.scatter(df2.g_avg,df2.p_avg, color='y')\n",
    "\n",
    "plt.scatter(km.cluster_centers_[:,0],km.cluster_centers_[:,1], color='r', marker='*')\n",
    "\n",
    "plt.xlabel('G')\n",
    "plt.ylabel('P')"
   ]
  },
  {
   "cell_type": "code",
   "execution_count": 135,
   "metadata": {},
   "outputs": [
    {
     "data": {
      "text/plain": [
       "count    70.000000\n",
       "mean      0.389281\n",
       "std       0.212993\n",
       "min       0.000000\n",
       "25%       0.220063\n",
       "50%       0.397618\n",
       "75%       0.483548\n",
       "max       1.000000\n",
       "Name: g_avg, dtype: float64"
      ]
     },
     "execution_count": 135,
     "metadata": {},
     "output_type": "execute_result"
    }
   ],
   "source": [
    "df_new['g_avg'].describe()"
   ]
  }
 ],
 "metadata": {
  "kernelspec": {
   "display_name": "Python 3",
   "language": "python",
   "name": "python3"
  },
  "language_info": {
   "codemirror_mode": {
    "name": "ipython",
    "version": 3
   },
   "file_extension": ".py",
   "mimetype": "text/x-python",
   "name": "python",
   "nbconvert_exporter": "python",
   "pygments_lexer": "ipython3",
   "version": "3.7.4"
  }
 },
 "nbformat": 4,
 "nbformat_minor": 2
}
